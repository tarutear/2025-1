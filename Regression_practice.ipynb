{
  "nbformat": 4,
  "nbformat_minor": 0,
  "metadata": {
    "colab": {
      "provenance": [],
      "authorship_tag": "ABX9TyPd/pLKEtcwBxLcqRa88K5j",
      "include_colab_link": true
    },
    "kernelspec": {
      "name": "ir",
      "display_name": "R"
    },
    "language_info": {
      "name": "R"
    }
  },
  "cells": [
    {
      "cell_type": "markdown",
      "metadata": {
        "id": "view-in-github",
        "colab_type": "text"
      },
      "source": [
        "<a href=\"https://colab.research.google.com/github/tarutear/2025-1/blob/main/Regression_practice.ipynb\" target=\"_parent\"><img src=\"https://colab.research.google.com/assets/colab-badge.svg\" alt=\"Open In Colab\"/></a>"
      ]
    },
    {
      "cell_type": "code",
      "source": [
        "library(dplyr)\n",
        "library(tidyverse)\n",
        "library(readxl)\n",
        "library(httr)"
      ],
      "metadata": {
        "colab": {
          "base_uri": "https://localhost:8080/"
        },
        "id": "1BBsI0rR0gts",
        "outputId": "0b55b3ac-a49b-4cd1-9fa9-f100dd63132d"
      },
      "execution_count": 1,
      "outputs": [
        {
          "output_type": "stream",
          "name": "stderr",
          "text": [
            "\n",
            "Attaching package: ‘dplyr’\n",
            "\n",
            "\n",
            "The following objects are masked from ‘package:stats’:\n",
            "\n",
            "    filter, lag\n",
            "\n",
            "\n",
            "The following objects are masked from ‘package:base’:\n",
            "\n",
            "    intersect, setdiff, setequal, union\n",
            "\n",
            "\n",
            "── \u001b[1mAttaching core tidyverse packages\u001b[22m ──────────────────────── tidyverse 2.0.0 ──\n",
            "\u001b[32m✔\u001b[39m \u001b[34mforcats  \u001b[39m 1.0.0     \u001b[32m✔\u001b[39m \u001b[34mreadr    \u001b[39m 2.1.5\n",
            "\u001b[32m✔\u001b[39m \u001b[34mggplot2  \u001b[39m 3.5.2     \u001b[32m✔\u001b[39m \u001b[34mstringr  \u001b[39m 1.5.1\n",
            "\u001b[32m✔\u001b[39m \u001b[34mlubridate\u001b[39m 1.9.4     \u001b[32m✔\u001b[39m \u001b[34mtibble   \u001b[39m 3.2.1\n",
            "\u001b[32m✔\u001b[39m \u001b[34mpurrr    \u001b[39m 1.0.4     \u001b[32m✔\u001b[39m \u001b[34mtidyr    \u001b[39m 1.3.1\n",
            "── \u001b[1mConflicts\u001b[22m ────────────────────────────────────────── tidyverse_conflicts() ──\n",
            "\u001b[31m✖\u001b[39m \u001b[34mdplyr\u001b[39m::\u001b[32mfilter()\u001b[39m masks \u001b[34mstats\u001b[39m::filter()\n",
            "\u001b[31m✖\u001b[39m \u001b[34mdplyr\u001b[39m::\u001b[32mlag()\u001b[39m    masks \u001b[34mstats\u001b[39m::lag()\n",
            "\u001b[36mℹ\u001b[39m Use the conflicted package (\u001b[3m\u001b[34m<http://conflicted.r-lib.org/>\u001b[39m\u001b[23m) to force all conflicts to become errors\n"
          ]
        }
      ]
    },
    {
      "cell_type": "code",
      "execution_count": 6,
      "metadata": {
        "colab": {
          "base_uri": "https://localhost:8080/",
          "height": 391
        },
        "id": "DJjb4GPl0VYl",
        "outputId": "3851126c-862f-4548-b895-4a842c85cf50"
      },
      "outputs": [
        {
          "output_type": "display_data",
          "data": {
            "text/plain": [
              "Response [https://raw.githubusercontent.com/tarutear/2025-1/refs/heads/main/taiwan_real_estate2.csv]\n",
              "  Date: 2025-06-08 23:18\n",
              "  Status: 200\n",
              "  Content-Type: text/plain; charset=utf-8\n",
              "  Size: 15.7 kB\n",
              "<ON DISK>  /content/taiwan_real_estate2.csvNULL"
            ]
          },
          "metadata": {}
        },
        {
          "output_type": "display_data",
          "data": {
            "text/html": [
              "<table class=\"dataframe\">\n",
              "<caption>A data.frame: 6 × 4</caption>\n",
              "<thead>\n",
              "\t<tr><th></th><th scope=col>dist_to_mrt_m</th><th scope=col>n_convenience</th><th scope=col>house_age_years</th><th scope=col>price_twd_msq</th></tr>\n",
              "\t<tr><th></th><th scope=col>&lt;dbl&gt;</th><th scope=col>&lt;int&gt;</th><th scope=col>&lt;chr&gt;</th><th scope=col>&lt;dbl&gt;</th></tr>\n",
              "</thead>\n",
              "<tbody>\n",
              "\t<tr><th scope=row>1</th><td>  84.87882</td><td>10</td><td>30 to 45</td><td>11.467474</td></tr>\n",
              "\t<tr><th scope=row>2</th><td> 306.59470</td><td> 9</td><td>15 to 30</td><td>12.768533</td></tr>\n",
              "\t<tr><th scope=row>3</th><td> 561.98450</td><td> 5</td><td>0 to 15 </td><td>14.311649</td></tr>\n",
              "\t<tr><th scope=row>4</th><td> 561.98450</td><td> 5</td><td>0 to 15 </td><td>16.580938</td></tr>\n",
              "\t<tr><th scope=row>5</th><td> 390.56840</td><td> 5</td><td>0 to 15 </td><td>13.040847</td></tr>\n",
              "\t<tr><th scope=row>6</th><td>2175.03000</td><td> 3</td><td>0 to 15 </td><td> 9.712557</td></tr>\n",
              "</tbody>\n",
              "</table>\n"
            ],
            "text/markdown": "\nA data.frame: 6 × 4\n\n| <!--/--> | dist_to_mrt_m &lt;dbl&gt; | n_convenience &lt;int&gt; | house_age_years &lt;chr&gt; | price_twd_msq &lt;dbl&gt; |\n|---|---|---|---|---|\n| 1 |   84.87882 | 10 | 30 to 45 | 11.467474 |\n| 2 |  306.59470 |  9 | 15 to 30 | 12.768533 |\n| 3 |  561.98450 |  5 | 0 to 15  | 14.311649 |\n| 4 |  561.98450 |  5 | 0 to 15  | 16.580938 |\n| 5 |  390.56840 |  5 | 0 to 15  | 13.040847 |\n| 6 | 2175.03000 |  3 | 0 to 15  |  9.712557 |\n\n",
            "text/latex": "A data.frame: 6 × 4\n\\begin{tabular}{r|llll}\n  & dist\\_to\\_mrt\\_m & n\\_convenience & house\\_age\\_years & price\\_twd\\_msq\\\\\n  & <dbl> & <int> & <chr> & <dbl>\\\\\n\\hline\n\t1 &   84.87882 & 10 & 30 to 45 & 11.467474\\\\\n\t2 &  306.59470 &  9 & 15 to 30 & 12.768533\\\\\n\t3 &  561.98450 &  5 & 0 to 15  & 14.311649\\\\\n\t4 &  561.98450 &  5 & 0 to 15  & 16.580938\\\\\n\t5 &  390.56840 &  5 & 0 to 15  & 13.040847\\\\\n\t6 & 2175.03000 &  3 & 0 to 15  &  9.712557\\\\\n\\end{tabular}\n",
            "text/plain": [
              "  dist_to_mrt_m n_convenience house_age_years price_twd_msq\n",
              "1   84.87882    10            30 to 45        11.467474    \n",
              "2  306.59470     9            15 to 30        12.768533    \n",
              "3  561.98450     5            0 to 15         14.311649    \n",
              "4  561.98450     5            0 to 15         16.580938    \n",
              "5  390.56840     5            0 to 15         13.040847    \n",
              "6 2175.03000     3            0 to 15          9.712557    "
            ]
          },
          "metadata": {}
        }
      ],
      "source": [
        "## train data set 불러오기\n",
        "url <- \"https://raw.githubusercontent.com/tarutear/2025-1/refs/heads/main/taiwan_real_estate2.csv\"\n",
        "destfile <- \"taiwan_real_estate2.csv\"\n",
        "\n",
        "# 파일 다운로드 (바이너리 모드로!)\n",
        "GET(url, write_disk(destfile, overwrite = TRUE))\n",
        "\n",
        "# 엑셀 파일 읽기\n",
        "df_taiwan <- read.csv(destfile)\n",
        "\n",
        "# 데이터 확인\n",
        "head(df_taiwan)\n"
      ]
    },
    {
      "cell_type": "code",
      "source": [
        "set.seed(250614)\n",
        "df_train <- df_taiwan %>% slice_sample(prop = 0.7)\n",
        "df_test <- anti_join(df_taiwan, df_train)"
      ],
      "metadata": {
        "colab": {
          "base_uri": "https://localhost:8080/",
          "height": 70
        },
        "id": "U15BA_gh1UsV",
        "outputId": "19672167-3123-4e2c-c65b-99898cdb302d"
      },
      "execution_count": 9,
      "outputs": [
        {
          "output_type": "stream",
          "name": "stderr",
          "text": [
            "\u001b[1m\u001b[22mJoining with `by = join_by(dist_to_mrt_m, n_convenience, house_age_years,\n",
            "price_twd_msq)`\n"
          ]
        },
        {
          "output_type": "display_data",
          "data": {
            "text/html": [
              "289"
            ],
            "text/markdown": "289",
            "text/latex": "289",
            "text/plain": [
              "[1] 289"
            ]
          },
          "metadata": {}
        }
      ]
    },
    {
      "cell_type": "code",
      "source": [
        "nrow(df_taiwan)\n",
        "nrow(df_train)\n",
        "nrow(df_test)"
      ],
      "metadata": {
        "colab": {
          "base_uri": "https://localhost:8080/",
          "height": 68
        },
        "id": "eYB-BLga19nh",
        "outputId": "9a998262-a31d-4945-cd3b-06a9b274391f"
      },
      "execution_count": 10,
      "outputs": [
        {
          "output_type": "display_data",
          "data": {
            "text/html": [
              "414"
            ],
            "text/markdown": "414",
            "text/latex": "414",
            "text/plain": [
              "[1] 414"
            ]
          },
          "metadata": {}
        },
        {
          "output_type": "display_data",
          "data": {
            "text/html": [
              "289"
            ],
            "text/markdown": "289",
            "text/latex": "289",
            "text/plain": [
              "[1] 289"
            ]
          },
          "metadata": {}
        },
        {
          "output_type": "display_data",
          "data": {
            "text/html": [
              "125"
            ],
            "text/markdown": "125",
            "text/latex": "125",
            "text/plain": [
              "[1] 125"
            ]
          },
          "metadata": {}
        }
      ]
    },
    {
      "cell_type": "code",
      "source": [
        "#train 데이터 상위 6개 행 확인\n",
        "\n"
      ],
      "metadata": {
        "id": "KV2Yr1qQ0yvV"
      },
      "execution_count": null,
      "outputs": []
    },
    {
      "cell_type": "code",
      "source": [
        "#n_convenience 변수를 예측변수로 price_twd_msq를 결과변수로 하여 simple linear regression model 만들기\n",
        "\n"
      ],
      "metadata": {
        "id": "arhAPRqF03wg"
      },
      "execution_count": null,
      "outputs": []
    },
    {
      "cell_type": "code",
      "source": [
        "# model summary 확인\n",
        "\n"
      ],
      "metadata": {
        "id": "SeuqJJPM1A9a"
      },
      "execution_count": null,
      "outputs": []
    },
    {
      "cell_type": "code",
      "source": [
        "# test 데이터셋으로 예측값을 만들고 pred_test 변수에 저장하기\n",
        "\n"
      ],
      "metadata": {
        "id": "B31deNv_1Ex2"
      },
      "execution_count": null,
      "outputs": []
    },
    {
      "cell_type": "code",
      "source": [
        "# test 셋에 pred_test 변수를 cbind함수를 활용하여 붙이기\n",
        "\n"
      ],
      "metadata": {
        "id": "-GvQPaD_2s2p"
      },
      "execution_count": null,
      "outputs": []
    },
    {
      "cell_type": "code",
      "source": [
        "# 잔차 계산"
      ],
      "metadata": {
        "id": "eSU6q8hO21Bh"
      },
      "execution_count": null,
      "outputs": []
    }
  ]
}