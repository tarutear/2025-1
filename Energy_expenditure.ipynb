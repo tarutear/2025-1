{
  "nbformat": 4,
  "nbformat_minor": 0,
  "metadata": {
    "colab": {
      "provenance": [],
      "authorship_tag": "ABX9TyNVntEyI1P/hkzD+qraRQly",
      "include_colab_link": true
    },
    "kernelspec": {
      "name": "ir",
      "display_name": "R"
    },
    "language_info": {
      "name": "R"
    }
  },
  "cells": [
    {
      "cell_type": "markdown",
      "metadata": {
        "id": "view-in-github",
        "colab_type": "text"
      },
      "source": [
        "<a href=\"https://colab.research.google.com/github/tarutear/2025-1/blob/main/Energy_expenditure.ipynb\" target=\"_parent\"><img src=\"https://colab.research.google.com/assets/colab-badge.svg\" alt=\"Open In Colab\"/></a>"
      ]
    },
    {
      "cell_type": "code",
      "execution_count": 21,
      "metadata": {
        "id": "aUIXknOsrRdX"
      },
      "outputs": [],
      "source": [
        "library(dplyr)\n",
        "library(tidyverse)\n",
        "library(readxl)\n",
        "library(httr)"
      ]
    },
    {
      "cell_type": "markdown",
      "source": [
        "The Data\n",
        "Available in df_train.csv and df_test.csv:\n",
        "\n",
        "Column\tType\tDescription\n",
        "\n",
        "---\n",
        "\n",
        ":\n",
        "date\tchr\tDate of the measurement\n",
        "\n",
        "power_consumption\tdbl\tDaily power consumption (in kilowatts)\n",
        "\n",
        "year\tint\tYear of the measurement\n",
        "\n",
        "semester\tint\tSemester of the measurement (1 for Jan-Jun, 2 for Jul-Dec)\n",
        "\n",
        "quarter\tint\tQuarter of the measurement (1 for Q1, 2 for Q2, 3 for Q3, 4 for Q4)\n",
        "\n",
        "day_in_week\tchr\tDay of the week of the measurement (e.g., Monday, Tuesday)\n",
        "\n",
        "week_in_year\tint\tWeek number in the year of the measurement\n",
        "\n",
        "day_in_year\tint\tDay number in the year of the measurement\n",
        "\n",
        "month\tint\tMonth of the year of the measurement\n",
        "\n",
        "---\n",
        "\n",
        "\n",
        "This dataset was donated to the UCI Machine Learning Repository. For detailed information about the dataset and the preprocessing steps, please refer to the License and Data Preprocessing Details (Invalid URL) notebook"
      ],
      "metadata": {
        "id": "IPKrbtl8vNYe"
      }
    },
    {
      "cell_type": "markdown",
      "source": [
        "Predict daily **power_consumption** by experimenting with various supervised regression models trained on the training dataset.\n",
        "\n",
        "1. Evaluate their performance on the test dataset by measuring their Root Mean Squared Error (RMSE).\n",
        "\n",
        "2. Save the lowest RMSE achieved on the test set as a numeric variable selected_rmse, which should not be greater than 450 kW.\n",
        "\n",
        "3. Plot the power_consumption predictions and actual daily power_consumption for the test dataset and assess whether the predictions follow a similar trend as the original data.\n",
        "\n",
        "5. Save your answer \"Yes\" or \"No\" as a string variable trend_similarity."
      ],
      "metadata": {
        "id": "c0-gWr0Juoaj"
      }
    },
    {
      "cell_type": "code",
      "source": [
        "## train data set 불러오기\n",
        "url <- \"https://raw.githubusercontent.com/tarutear/2025-1/c6e34232d454b3e852d4a022186434a99520316f/df_train.xlsx\"\n",
        "destfile <- \"df_train.xlsx\"\n",
        "\n",
        "# 파일 다운로드 (바이너리 모드로!)\n",
        "GET(url, write_disk(destfile, overwrite = TRUE))\n",
        "\n",
        "# 엑셀 파일 읽기\n",
        "df_train <- read_excel(destfile)\n",
        "\n",
        "# 데이터 확인\n",
        "head(df_train)\n"
      ],
      "metadata": {
        "colab": {
          "base_uri": "https://localhost:8080/",
          "height": 391
        },
        "id": "H6OKpBbQterA",
        "outputId": "e3721bd0-60e6-4c30-d5dd-2e433f3d719b"
      },
      "execution_count": 22,
      "outputs": [
        {
          "output_type": "display_data",
          "data": {
            "text/plain": [
              "Response [https://raw.githubusercontent.com/tarutear/2025-1/c6e34232d454b3e852d4a022186434a99520316f/df_train.xlsx]\n",
              "  Date: 2025-06-01 23:11\n",
              "  Status: 200\n",
              "  Content-Type: application/octet-stream\n",
              "  Size: 72.4 kB\n",
              "<ON DISK>  /content/df_train.xlsxNULL"
            ]
          },
          "metadata": {}
        },
        {
          "output_type": "display_data",
          "data": {
            "text/html": [
              "<table class=\"dataframe\">\n",
              "<caption>A tibble: 6 × 9</caption>\n",
              "<thead>\n",
              "\t<tr><th scope=col>date</th><th scope=col>power_consumption</th><th scope=col>year</th><th scope=col>semester</th><th scope=col>quarter</th><th scope=col>day_in_week</th><th scope=col>week_in_year</th><th scope=col>day_in_year</th><th scope=col>month</th></tr>\n",
              "\t<tr><th scope=col>&lt;chr&gt;</th><th scope=col>&lt;dbl&gt;</th><th scope=col>&lt;dbl&gt;</th><th scope=col>&lt;dbl&gt;</th><th scope=col>&lt;dbl&gt;</th><th scope=col>&lt;chr&gt;</th><th scope=col>&lt;dbl&gt;</th><th scope=col>&lt;dbl&gt;</th><th scope=col>&lt;dbl&gt;</th></tr>\n",
              "</thead>\n",
              "<tbody>\n",
              "\t<tr><td>12/16/2006</td><td>1209.176</td><td>2006</td><td>2</td><td>4</td><td>Sat</td><td>50</td><td>350</td><td>12</td></tr>\n",
              "\t<tr><td>12/17/2006</td><td>3390.460</td><td>2006</td><td>2</td><td>4</td><td>Sun</td><td>51</td><td>351</td><td>12</td></tr>\n",
              "\t<tr><td>12/18/2006</td><td>2203.826</td><td>2006</td><td>2</td><td>4</td><td>Mon</td><td>51</td><td>352</td><td>12</td></tr>\n",
              "\t<tr><td>12/19/2006</td><td>1666.194</td><td>2006</td><td>2</td><td>4</td><td>Tue</td><td>51</td><td>353</td><td>12</td></tr>\n",
              "\t<tr><td>12/20/2006</td><td>2225.748</td><td>2006</td><td>2</td><td>4</td><td>Wed</td><td>51</td><td>354</td><td>12</td></tr>\n",
              "\t<tr><td>12/21/2006</td><td>1716.624</td><td>2006</td><td>2</td><td>4</td><td>Thu</td><td>51</td><td>355</td><td>12</td></tr>\n",
              "</tbody>\n",
              "</table>\n"
            ],
            "text/markdown": "\nA tibble: 6 × 9\n\n| date &lt;chr&gt; | power_consumption &lt;dbl&gt; | year &lt;dbl&gt; | semester &lt;dbl&gt; | quarter &lt;dbl&gt; | day_in_week &lt;chr&gt; | week_in_year &lt;dbl&gt; | day_in_year &lt;dbl&gt; | month &lt;dbl&gt; |\n|---|---|---|---|---|---|---|---|---|\n| 12/16/2006 | 1209.176 | 2006 | 2 | 4 | Sat | 50 | 350 | 12 |\n| 12/17/2006 | 3390.460 | 2006 | 2 | 4 | Sun | 51 | 351 | 12 |\n| 12/18/2006 | 2203.826 | 2006 | 2 | 4 | Mon | 51 | 352 | 12 |\n| 12/19/2006 | 1666.194 | 2006 | 2 | 4 | Tue | 51 | 353 | 12 |\n| 12/20/2006 | 2225.748 | 2006 | 2 | 4 | Wed | 51 | 354 | 12 |\n| 12/21/2006 | 1716.624 | 2006 | 2 | 4 | Thu | 51 | 355 | 12 |\n\n",
            "text/latex": "A tibble: 6 × 9\n\\begin{tabular}{lllllllll}\n date & power\\_consumption & year & semester & quarter & day\\_in\\_week & week\\_in\\_year & day\\_in\\_year & month\\\\\n <chr> & <dbl> & <dbl> & <dbl> & <dbl> & <chr> & <dbl> & <dbl> & <dbl>\\\\\n\\hline\n\t 12/16/2006 & 1209.176 & 2006 & 2 & 4 & Sat & 50 & 350 & 12\\\\\n\t 12/17/2006 & 3390.460 & 2006 & 2 & 4 & Sun & 51 & 351 & 12\\\\\n\t 12/18/2006 & 2203.826 & 2006 & 2 & 4 & Mon & 51 & 352 & 12\\\\\n\t 12/19/2006 & 1666.194 & 2006 & 2 & 4 & Tue & 51 & 353 & 12\\\\\n\t 12/20/2006 & 2225.748 & 2006 & 2 & 4 & Wed & 51 & 354 & 12\\\\\n\t 12/21/2006 & 1716.624 & 2006 & 2 & 4 & Thu & 51 & 355 & 12\\\\\n\\end{tabular}\n",
            "text/plain": [
              "  date       power_consumption year semester quarter day_in_week week_in_year\n",
              "1 12/16/2006 1209.176          2006 2        4       Sat         50          \n",
              "2 12/17/2006 3390.460          2006 2        4       Sun         51          \n",
              "3 12/18/2006 2203.826          2006 2        4       Mon         51          \n",
              "4 12/19/2006 1666.194          2006 2        4       Tue         51          \n",
              "5 12/20/2006 2225.748          2006 2        4       Wed         51          \n",
              "6 12/21/2006 1716.624          2006 2        4       Thu         51          \n",
              "  day_in_year month\n",
              "1 350         12   \n",
              "2 351         12   \n",
              "3 352         12   \n",
              "4 353         12   \n",
              "5 354         12   \n",
              "6 355         12   "
            ]
          },
          "metadata": {}
        }
      ]
    },
    {
      "cell_type": "code",
      "source": [
        "## test data set 불러오기\n",
        "url <- \"https://raw.githubusercontent.com/tarutear/2025-1/c6e34232d454b3e852d4a022186434a99520316f/df_train.xlsx\"\n",
        "destfile <- \"df_test.xlsx\"\n",
        "\n",
        "# 파일 다운로드 (바이너리 모드로!)\n",
        "GET(url, write_disk(destfile, overwrite = TRUE))\n",
        "\n",
        "# 엑셀 파일 읽기\n",
        "df_test <- read_excel(destfile)\n",
        "\n",
        "# 데이터 확인\n",
        "head(df_test)\n"
      ],
      "metadata": {
        "colab": {
          "base_uri": "https://localhost:8080/",
          "height": 391
        },
        "id": "tOn0h_j_uHMU",
        "outputId": "b24cb5fd-714e-49a3-c378-900e017ff8f7"
      },
      "execution_count": 23,
      "outputs": [
        {
          "output_type": "display_data",
          "data": {
            "text/plain": [
              "Response [https://raw.githubusercontent.com/tarutear/2025-1/c6e34232d454b3e852d4a022186434a99520316f/df_train.xlsx]\n",
              "  Date: 2025-06-01 23:11\n",
              "  Status: 200\n",
              "  Content-Type: application/octet-stream\n",
              "  Size: 72.4 kB\n",
              "<ON DISK>  df_test.xlsxNULL"
            ]
          },
          "metadata": {}
        },
        {
          "output_type": "display_data",
          "data": {
            "text/html": [
              "<table class=\"dataframe\">\n",
              "<caption>A tibble: 6 × 9</caption>\n",
              "<thead>\n",
              "\t<tr><th scope=col>date</th><th scope=col>power_consumption</th><th scope=col>year</th><th scope=col>semester</th><th scope=col>quarter</th><th scope=col>day_in_week</th><th scope=col>week_in_year</th><th scope=col>day_in_year</th><th scope=col>month</th></tr>\n",
              "\t<tr><th scope=col>&lt;chr&gt;</th><th scope=col>&lt;dbl&gt;</th><th scope=col>&lt;dbl&gt;</th><th scope=col>&lt;dbl&gt;</th><th scope=col>&lt;dbl&gt;</th><th scope=col>&lt;chr&gt;</th><th scope=col>&lt;dbl&gt;</th><th scope=col>&lt;dbl&gt;</th><th scope=col>&lt;dbl&gt;</th></tr>\n",
              "</thead>\n",
              "<tbody>\n",
              "\t<tr><td>12/16/2006</td><td>1209.176</td><td>2006</td><td>2</td><td>4</td><td>Sat</td><td>50</td><td>350</td><td>12</td></tr>\n",
              "\t<tr><td>12/17/2006</td><td>3390.460</td><td>2006</td><td>2</td><td>4</td><td>Sun</td><td>51</td><td>351</td><td>12</td></tr>\n",
              "\t<tr><td>12/18/2006</td><td>2203.826</td><td>2006</td><td>2</td><td>4</td><td>Mon</td><td>51</td><td>352</td><td>12</td></tr>\n",
              "\t<tr><td>12/19/2006</td><td>1666.194</td><td>2006</td><td>2</td><td>4</td><td>Tue</td><td>51</td><td>353</td><td>12</td></tr>\n",
              "\t<tr><td>12/20/2006</td><td>2225.748</td><td>2006</td><td>2</td><td>4</td><td>Wed</td><td>51</td><td>354</td><td>12</td></tr>\n",
              "\t<tr><td>12/21/2006</td><td>1716.624</td><td>2006</td><td>2</td><td>4</td><td>Thu</td><td>51</td><td>355</td><td>12</td></tr>\n",
              "</tbody>\n",
              "</table>\n"
            ],
            "text/markdown": "\nA tibble: 6 × 9\n\n| date &lt;chr&gt; | power_consumption &lt;dbl&gt; | year &lt;dbl&gt; | semester &lt;dbl&gt; | quarter &lt;dbl&gt; | day_in_week &lt;chr&gt; | week_in_year &lt;dbl&gt; | day_in_year &lt;dbl&gt; | month &lt;dbl&gt; |\n|---|---|---|---|---|---|---|---|---|\n| 12/16/2006 | 1209.176 | 2006 | 2 | 4 | Sat | 50 | 350 | 12 |\n| 12/17/2006 | 3390.460 | 2006 | 2 | 4 | Sun | 51 | 351 | 12 |\n| 12/18/2006 | 2203.826 | 2006 | 2 | 4 | Mon | 51 | 352 | 12 |\n| 12/19/2006 | 1666.194 | 2006 | 2 | 4 | Tue | 51 | 353 | 12 |\n| 12/20/2006 | 2225.748 | 2006 | 2 | 4 | Wed | 51 | 354 | 12 |\n| 12/21/2006 | 1716.624 | 2006 | 2 | 4 | Thu | 51 | 355 | 12 |\n\n",
            "text/latex": "A tibble: 6 × 9\n\\begin{tabular}{lllllllll}\n date & power\\_consumption & year & semester & quarter & day\\_in\\_week & week\\_in\\_year & day\\_in\\_year & month\\\\\n <chr> & <dbl> & <dbl> & <dbl> & <dbl> & <chr> & <dbl> & <dbl> & <dbl>\\\\\n\\hline\n\t 12/16/2006 & 1209.176 & 2006 & 2 & 4 & Sat & 50 & 350 & 12\\\\\n\t 12/17/2006 & 3390.460 & 2006 & 2 & 4 & Sun & 51 & 351 & 12\\\\\n\t 12/18/2006 & 2203.826 & 2006 & 2 & 4 & Mon & 51 & 352 & 12\\\\\n\t 12/19/2006 & 1666.194 & 2006 & 2 & 4 & Tue & 51 & 353 & 12\\\\\n\t 12/20/2006 & 2225.748 & 2006 & 2 & 4 & Wed & 51 & 354 & 12\\\\\n\t 12/21/2006 & 1716.624 & 2006 & 2 & 4 & Thu & 51 & 355 & 12\\\\\n\\end{tabular}\n",
            "text/plain": [
              "  date       power_consumption year semester quarter day_in_week week_in_year\n",
              "1 12/16/2006 1209.176          2006 2        4       Sat         50          \n",
              "2 12/17/2006 3390.460          2006 2        4       Sun         51          \n",
              "3 12/18/2006 2203.826          2006 2        4       Mon         51          \n",
              "4 12/19/2006 1666.194          2006 2        4       Tue         51          \n",
              "5 12/20/2006 2225.748          2006 2        4       Wed         51          \n",
              "6 12/21/2006 1716.624          2006 2        4       Thu         51          \n",
              "  day_in_year month\n",
              "1 350         12   \n",
              "2 351         12   \n",
              "3 352         12   \n",
              "4 353         12   \n",
              "5 354         12   \n",
              "6 355         12   "
            ]
          },
          "metadata": {}
        }
      ]
    },
    {
      "cell_type": "code",
      "source": [
        "head(df_train)"
      ],
      "metadata": {
        "colab": {
          "base_uri": "https://localhost:8080/",
          "height": 283
        },
        "id": "siKZY0iXuWRA",
        "outputId": "25f9189e-4c87-4a4e-93a3-34f8efa49409"
      },
      "execution_count": 16,
      "outputs": [
        {
          "output_type": "display_data",
          "data": {
            "text/html": [
              "<table class=\"dataframe\">\n",
              "<caption>A tibble: 6 × 9</caption>\n",
              "<thead>\n",
              "\t<tr><th scope=col>date</th><th scope=col>power_consumption</th><th scope=col>year</th><th scope=col>semester</th><th scope=col>quarter</th><th scope=col>day_in_week</th><th scope=col>week_in_year</th><th scope=col>day_in_year</th><th scope=col>month</th></tr>\n",
              "\t<tr><th scope=col>&lt;chr&gt;</th><th scope=col>&lt;dbl&gt;</th><th scope=col>&lt;dbl&gt;</th><th scope=col>&lt;dbl&gt;</th><th scope=col>&lt;dbl&gt;</th><th scope=col>&lt;chr&gt;</th><th scope=col>&lt;dbl&gt;</th><th scope=col>&lt;dbl&gt;</th><th scope=col>&lt;dbl&gt;</th></tr>\n",
              "</thead>\n",
              "<tbody>\n",
              "\t<tr><td>12/16/2006</td><td>1209.176</td><td>2006</td><td>2</td><td>4</td><td>Sat</td><td>50</td><td>350</td><td>12</td></tr>\n",
              "\t<tr><td>12/17/2006</td><td>3390.460</td><td>2006</td><td>2</td><td>4</td><td>Sun</td><td>51</td><td>351</td><td>12</td></tr>\n",
              "\t<tr><td>12/18/2006</td><td>2203.826</td><td>2006</td><td>2</td><td>4</td><td>Mon</td><td>51</td><td>352</td><td>12</td></tr>\n",
              "\t<tr><td>12/19/2006</td><td>1666.194</td><td>2006</td><td>2</td><td>4</td><td>Tue</td><td>51</td><td>353</td><td>12</td></tr>\n",
              "\t<tr><td>12/20/2006</td><td>2225.748</td><td>2006</td><td>2</td><td>4</td><td>Wed</td><td>51</td><td>354</td><td>12</td></tr>\n",
              "\t<tr><td>12/21/2006</td><td>1716.624</td><td>2006</td><td>2</td><td>4</td><td>Thu</td><td>51</td><td>355</td><td>12</td></tr>\n",
              "</tbody>\n",
              "</table>\n"
            ],
            "text/markdown": "\nA tibble: 6 × 9\n\n| date &lt;chr&gt; | power_consumption &lt;dbl&gt; | year &lt;dbl&gt; | semester &lt;dbl&gt; | quarter &lt;dbl&gt; | day_in_week &lt;chr&gt; | week_in_year &lt;dbl&gt; | day_in_year &lt;dbl&gt; | month &lt;dbl&gt; |\n|---|---|---|---|---|---|---|---|---|\n| 12/16/2006 | 1209.176 | 2006 | 2 | 4 | Sat | 50 | 350 | 12 |\n| 12/17/2006 | 3390.460 | 2006 | 2 | 4 | Sun | 51 | 351 | 12 |\n| 12/18/2006 | 2203.826 | 2006 | 2 | 4 | Mon | 51 | 352 | 12 |\n| 12/19/2006 | 1666.194 | 2006 | 2 | 4 | Tue | 51 | 353 | 12 |\n| 12/20/2006 | 2225.748 | 2006 | 2 | 4 | Wed | 51 | 354 | 12 |\n| 12/21/2006 | 1716.624 | 2006 | 2 | 4 | Thu | 51 | 355 | 12 |\n\n",
            "text/latex": "A tibble: 6 × 9\n\\begin{tabular}{lllllllll}\n date & power\\_consumption & year & semester & quarter & day\\_in\\_week & week\\_in\\_year & day\\_in\\_year & month\\\\\n <chr> & <dbl> & <dbl> & <dbl> & <dbl> & <chr> & <dbl> & <dbl> & <dbl>\\\\\n\\hline\n\t 12/16/2006 & 1209.176 & 2006 & 2 & 4 & Sat & 50 & 350 & 12\\\\\n\t 12/17/2006 & 3390.460 & 2006 & 2 & 4 & Sun & 51 & 351 & 12\\\\\n\t 12/18/2006 & 2203.826 & 2006 & 2 & 4 & Mon & 51 & 352 & 12\\\\\n\t 12/19/2006 & 1666.194 & 2006 & 2 & 4 & Tue & 51 & 353 & 12\\\\\n\t 12/20/2006 & 2225.748 & 2006 & 2 & 4 & Wed & 51 & 354 & 12\\\\\n\t 12/21/2006 & 1716.624 & 2006 & 2 & 4 & Thu & 51 & 355 & 12\\\\\n\\end{tabular}\n",
            "text/plain": [
              "  date       power_consumption year semester quarter day_in_week week_in_year\n",
              "1 12/16/2006 1209.176          2006 2        4       Sat         50          \n",
              "2 12/17/2006 3390.460          2006 2        4       Sun         51          \n",
              "3 12/18/2006 2203.826          2006 2        4       Mon         51          \n",
              "4 12/19/2006 1666.194          2006 2        4       Tue         51          \n",
              "5 12/20/2006 2225.748          2006 2        4       Wed         51          \n",
              "6 12/21/2006 1716.624          2006 2        4       Thu         51          \n",
              "  day_in_year month\n",
              "1 350         12   \n",
              "2 351         12   \n",
              "3 352         12   \n",
              "4 353         12   \n",
              "5 354         12   \n",
              "6 355         12   "
            ]
          },
          "metadata": {}
        }
      ]
    },
    {
      "cell_type": "code",
      "source": [
        "glimpse(df_train)"
      ],
      "metadata": {
        "colab": {
          "base_uri": "https://localhost:8080/"
        },
        "id": "AXEwQPaKwu30",
        "outputId": "6e0e9599-b062-408e-f77d-49c3d9a34656"
      },
      "execution_count": 20,
      "outputs": [
        {
          "output_type": "stream",
          "name": "stdout",
          "text": [
            "Rows: 1,202\n",
            "Columns: 9\n",
            "$ date              \u001b[3m\u001b[90m<chr>\u001b[39m\u001b[23m \"12/16/2006\"\u001b[90m, \u001b[39m\"12/17/2006\"\u001b[90m, \u001b[39m\"12/18/2006\"\u001b[90m, \u001b[39m\"12/19/200…\n",
            "$ power_consumption \u001b[3m\u001b[90m<dbl>\u001b[39m\u001b[23m 1209.176\u001b[90m, \u001b[39m3390.460\u001b[90m, \u001b[39m2203.826\u001b[90m, \u001b[39m1666.194\u001b[90m, \u001b[39m2225.748\u001b[90m, \u001b[39m17…\n",
            "$ year              \u001b[3m\u001b[90m<dbl>\u001b[39m\u001b[23m 2006\u001b[90m, \u001b[39m2006\u001b[90m, \u001b[39m2006\u001b[90m, \u001b[39m2006\u001b[90m, \u001b[39m2006\u001b[90m, \u001b[39m2006\u001b[90m, \u001b[39m2006\u001b[90m, \u001b[39m2006\u001b[90m, \u001b[39m2006…\n",
            "$ semester          \u001b[3m\u001b[90m<dbl>\u001b[39m\u001b[23m 2\u001b[90m, \u001b[39m2\u001b[90m, \u001b[39m2\u001b[90m, \u001b[39m2\u001b[90m, \u001b[39m2\u001b[90m, \u001b[39m2\u001b[90m, \u001b[39m2\u001b[90m, \u001b[39m2\u001b[90m, \u001b[39m2\u001b[90m, \u001b[39m2\u001b[90m, \u001b[39m2\u001b[90m, \u001b[39m2\u001b[90m, \u001b[39m2\u001b[90m, \u001b[39m2\u001b[90m, \u001b[39m2\u001b[90m, \u001b[39m2\u001b[90m, \u001b[39m1\u001b[90m, \u001b[39m1…\n",
            "$ quarter           \u001b[3m\u001b[90m<dbl>\u001b[39m\u001b[23m 4\u001b[90m, \u001b[39m4\u001b[90m, \u001b[39m4\u001b[90m, \u001b[39m4\u001b[90m, \u001b[39m4\u001b[90m, \u001b[39m4\u001b[90m, \u001b[39m4\u001b[90m, \u001b[39m4\u001b[90m, \u001b[39m4\u001b[90m, \u001b[39m4\u001b[90m, \u001b[39m4\u001b[90m, \u001b[39m4\u001b[90m, \u001b[39m4\u001b[90m, \u001b[39m4\u001b[90m, \u001b[39m4\u001b[90m, \u001b[39m4\u001b[90m, \u001b[39m1\u001b[90m, \u001b[39m1…\n",
            "$ day_in_week       \u001b[3m\u001b[90m<chr>\u001b[39m\u001b[23m \"Sat\"\u001b[90m, \u001b[39m\"Sun\"\u001b[90m, \u001b[39m\"Mon\"\u001b[90m, \u001b[39m\"Tue\"\u001b[90m, \u001b[39m\"Wed\"\u001b[90m, \u001b[39m\"Thu\"\u001b[90m, \u001b[39m\"Fri\"\u001b[90m, \u001b[39m\"Sa…\n",
            "$ week_in_year      \u001b[3m\u001b[90m<dbl>\u001b[39m\u001b[23m 50\u001b[90m, \u001b[39m51\u001b[90m, \u001b[39m51\u001b[90m, \u001b[39m51\u001b[90m, \u001b[39m51\u001b[90m, \u001b[39m51\u001b[90m, \u001b[39m51\u001b[90m, \u001b[39m51\u001b[90m, \u001b[39m52\u001b[90m, \u001b[39m52\u001b[90m, \u001b[39m52\u001b[90m, \u001b[39m52\u001b[90m, \u001b[39m52\u001b[90m, \u001b[39m…\n",
            "$ day_in_year       \u001b[3m\u001b[90m<dbl>\u001b[39m\u001b[23m 350\u001b[90m, \u001b[39m351\u001b[90m, \u001b[39m352\u001b[90m, \u001b[39m353\u001b[90m, \u001b[39m354\u001b[90m, \u001b[39m355\u001b[90m, \u001b[39m356\u001b[90m, \u001b[39m357\u001b[90m, \u001b[39m358\u001b[90m, \u001b[39m359\u001b[90m, \u001b[39m36…\n",
            "$ month             \u001b[3m\u001b[90m<dbl>\u001b[39m\u001b[23m 12\u001b[90m, \u001b[39m12\u001b[90m, \u001b[39m12\u001b[90m, \u001b[39m12\u001b[90m, \u001b[39m12\u001b[90m, \u001b[39m12\u001b[90m, \u001b[39m12\u001b[90m, \u001b[39m12\u001b[90m, \u001b[39m12\u001b[90m, \u001b[39m12\u001b[90m, \u001b[39m12\u001b[90m, \u001b[39m12\u001b[90m, \u001b[39m12\u001b[90m, \u001b[39m…\n"
          ]
        }
      ]
    },
    {
      "cell_type": "code",
      "source": [
        "install.packages(\"ranger\")"
      ],
      "metadata": {
        "colab": {
          "base_uri": "https://localhost:8080/"
        },
        "id": "UW3qPh2-xOw0",
        "outputId": "54a52a93-41dd-405f-dc82-34f316baf5af"
      },
      "execution_count": 26,
      "outputs": [
        {
          "output_type": "stream",
          "name": "stderr",
          "text": [
            "Installing package into ‘/usr/local/lib/R/site-library’\n",
            "(as ‘lib’ is unspecified)\n",
            "\n",
            "also installing the dependency ‘RcppEigen’\n",
            "\n",
            "\n"
          ]
        }
      ]
    },
    {
      "cell_type": "code",
      "source": [
        "install.packages(\"xgboost\")"
      ],
      "metadata": {
        "colab": {
          "base_uri": "https://localhost:8080/"
        },
        "id": "a8JkXx_yx-_b",
        "outputId": "c924ac31-cd22-4cc7-95f3-5454fe20b6c1"
      },
      "execution_count": 28,
      "outputs": [
        {
          "output_type": "stream",
          "name": "stderr",
          "text": [
            "Installing package into ‘/usr/local/lib/R/site-library’\n",
            "(as ‘lib’ is unspecified)\n",
            "\n",
            "Warning message in install.packages(\"xgboost\"):\n",
            "“installation of package ‘xgboost’ had non-zero exit status”\n"
          ]
        }
      ]
    },
    {
      "cell_type": "markdown",
      "source": [
        "#Solution"
      ],
      "metadata": {
        "id": "trnTgWBPzXL5"
      }
    },
    {
      "cell_type": "code",
      "source": [
        "#Solution\n",
        "\n",
        "# Load necessary libraries\n",
        "library(dplyr)\n",
        "library(lubridate)\n",
        "library(ranger)\n",
        "library(xgboost)\n",
        "library(ggplot2)\n",
        "# Display structure of the training data\n",
        "glimpse(df_train)\n",
        "\n",
        "# Convert 'date' column to Date type and 'day_in_week' column to factor in both datasets\n",
        "df_train <- df_train %>%\n",
        "  mutate(date = as.Date(date, format = \"%m/%d/%Y\"),\n",
        "         day_in_week = factor(day_in_week))\n",
        "df_test <- df_test %>%\n",
        "  mutate(date = as.Date(date, format = \"%m/%d/%Y\"),\n",
        "         day_in_week = factor(day_in_week))\n",
        "\n",
        "# Convert categorical variable 'day_in_week' to indicator variables using one-hot encoding in both datasets\n",
        "df_onehot_train <- model.matrix(~ day_in_week - 1, data = df_train) %>%\n",
        "  as.data.frame()\n",
        "df_onehot_test <- model.matrix(~ day_in_week - 1, data = df_test) %>%\n",
        "  as.data.frame()\n",
        "\n",
        "# Combine one-hot encoded columns with the original datasets and remove the 'day_in_week' column\n",
        "df_train <- mutate(df_train, df_onehot_train) %>% select(-c(day_in_week))\n",
        "df_test <- mutate(df_test, df_onehot_test) %>% select(-c(day_in_week))\n",
        "\n",
        "# Separate features and target variable for both training and testing datasets\n",
        "train_x <- df_train %>% select(-power_consumption, -date)\n",
        "train_y <- df_train[[\"power_consumption\"]]\n",
        "test_x <- df_test %>% select(-power_consumption, -date)\n",
        "test_y <- df_test[[\"power_consumption\"]]\n",
        "\n",
        "# Train models, predict on test dataset and calculate RMSE for each model.\n",
        "## Linear regression\n",
        "lm_model <- lm(train_y ~ ., data = train_x)\n",
        "lm_pred <- predict(lm_model, newdata = test_x)\n",
        "lm_rmse <- sqrt(mean((test_y - lm_pred)^2))\n",
        "\n",
        "## Random forest\n",
        "rf_model <- ranger(power_consumption ~., data = df_train %>% select(-date), num.trees = 1000)\n",
        "rf_pred <- predict(rf_model, data = df_test %>% select(-date))$predictions\n",
        "rf_rmse <- sqrt(mean((test_y - rf_pred)^2))\n",
        "\n",
        "## XGBoost\n",
        "xgb_model <- xgboost(\n",
        "  data = as.matrix(train_x),\n",
        "  label = train_y,\n",
        "  nrounds = 500,\n",
        "  objective = \"reg:squarederror\",\n",
        "  eta = 0.1,\n",
        "  max_depth = 1,\n",
        "  verbose = FALSE\n",
        ")\n",
        "xgb_pred <- predict(xgb_model, newdata = as.matrix(test_x))\n",
        "xgb_rmse <- sqrt(mean((test_y - xgb_pred)^2))\n",
        "\n",
        "# RMSE scores\n",
        "data.frame(\n",
        "  Model = c(\"Linear Regression\", \"Random Forest\", \"XGBoost\"),\n",
        "  RMSE = c(lm_rmse, rf_rmse, xgb_rmse)\n",
        ")\n",
        "\n",
        "# Get the lowest RMSE and assign it to selected_rmse\n",
        "selected_rmse <- min(lm_rmse, rf_rmse, xgb_rmse)\n",
        "cat(\"selected_rmse:\", selected_rmse, \"kW\\n\")\n",
        "\n",
        "# Add predictions to the test dataset for plotting\n",
        "df_test <- df_test %>%\n",
        "  mutate(Predicted = rf_pred)\n",
        "\n",
        "# Plot actual vs predicted power consumption over time to check for trend similarity\n",
        "ggplot(df_test) +\n",
        "  geom_line(aes(x = date, y = power_consumption), color = \"green\", linewidth = 1.1) +\n",
        "  geom_line(aes(x = date, y = Predicted), color = \"brown\", linewidth = 1) +\n",
        "  labs(title = \"Power Consumption: Original and Predicted\", x = \"Date\", y = \"Power Consumption\", caption = \"Green is original and brown is predicted data\") +\n",
        "  scale_x_date(date_breaks = \"1 month\", date_labels = \"%b\") +\n",
        "  theme_minimal() +\n",
        "  theme(panel.grid.major.x = element_line(color = \"grey80\"))\n",
        "\n",
        "trend_similarity <- \"Yes\"\n",
        "\n",
        "cat(\"trend_similarity:\", trend_similarity, \"\\n\")"
      ],
      "metadata": {
        "colab": {
          "base_uri": "https://localhost:8080/",
          "height": 109
        },
        "id": "MYYPjH4Rwjqb",
        "outputId": "c2ff23a3-7a41-4830-df77-8b5a9b97c43c"
      },
      "execution_count": 30,
      "outputs": [
        {
          "output_type": "error",
          "ename": "ERROR",
          "evalue": "Error in library(xgboost): there is no package called ‘xgboost’\n",
          "traceback": [
            "Error in library(xgboost): there is no package called ‘xgboost’\nTraceback:\n",
            "1. stop(packageNotFoundError(package, lib.loc, sys.call()))"
          ]
        }
      ]
    },
    {
      "cell_type": "markdown",
      "source": [
        "#의사결정나무"
      ],
      "metadata": {
        "id": "d_Dr9u4-zh24"
      }
    },
    {
      "cell_type": "code",
      "source": [
        "library(rpart)\n",
        "install.packages(\"rpart.plot\")\n",
        "library(raprt.plot)"
      ],
      "metadata": {
        "colab": {
          "base_uri": "https://localhost:8080/",
          "height": 163
        },
        "id": "8v-qIzVXzjKU",
        "outputId": "a522661c-670e-4a28-d683-d5e97dcfd127"
      },
      "execution_count": 33,
      "outputs": [
        {
          "output_type": "stream",
          "name": "stderr",
          "text": [
            "Installing package into ‘/usr/local/lib/R/site-library’\n",
            "(as ‘lib’ is unspecified)\n",
            "\n"
          ]
        },
        {
          "output_type": "error",
          "ename": "ERROR",
          "evalue": "Error in library(raprt.plot): there is no package called ‘raprt.plot’\n",
          "traceback": [
            "Error in library(raprt.plot): there is no package called ‘raprt.plot’\nTraceback:\n",
            "1. stop(packageNotFoundError(package, lib.loc, sys.call()))"
          ]
        }
      ]
    },
    {
      "cell_type": "code",
      "source": [],
      "metadata": {
        "id": "hKmvooA0zwz3"
      },
      "execution_count": null,
      "outputs": []
    },
    {
      "cell_type": "markdown",
      "source": [],
      "metadata": {
        "id": "9DNnrx54zam-"
      }
    }
  ]
}