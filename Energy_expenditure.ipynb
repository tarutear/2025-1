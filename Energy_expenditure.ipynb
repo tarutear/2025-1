{
  "nbformat": 4,
  "nbformat_minor": 0,
  "metadata": {
    "colab": {
      "provenance": [],
      "authorship_tag": "ABX9TyPh7wlsB66nUPzPncKK7SzH",
      "include_colab_link": true
    },
    "kernelspec": {
      "name": "ir",
      "display_name": "R"
    },
    "language_info": {
      "name": "R"
    }
  },
  "cells": [
    {
      "cell_type": "markdown",
      "metadata": {
        "id": "view-in-github",
        "colab_type": "text"
      },
      "source": [
        "<a href=\"https://colab.research.google.com/github/tarutear/2025-1/blob/main/Energy_expenditure.ipynb\" target=\"_parent\"><img src=\"https://colab.research.google.com/assets/colab-badge.svg\" alt=\"Open In Colab\"/></a>"
      ]
    },
    {
      "cell_type": "code",
      "execution_count": 1,
      "metadata": {
        "id": "aUIXknOsrRdX",
        "colab": {
          "base_uri": "https://localhost:8080/"
        },
        "outputId": "87be6ad5-d62f-42be-c426-b62360a5af8f"
      },
      "outputs": [
        {
          "output_type": "stream",
          "name": "stderr",
          "text": [
            "\n",
            "Attaching package: ‘dplyr’\n",
            "\n",
            "\n",
            "The following objects are masked from ‘package:stats’:\n",
            "\n",
            "    filter, lag\n",
            "\n",
            "\n",
            "The following objects are masked from ‘package:base’:\n",
            "\n",
            "    intersect, setdiff, setequal, union\n",
            "\n",
            "\n",
            "── \u001b[1mAttaching core tidyverse packages\u001b[22m ──────────────────────── tidyverse 2.0.0 ──\n",
            "\u001b[32m✔\u001b[39m \u001b[34mforcats  \u001b[39m 1.0.0     \u001b[32m✔\u001b[39m \u001b[34mreadr    \u001b[39m 2.1.5\n",
            "\u001b[32m✔\u001b[39m \u001b[34mggplot2  \u001b[39m 3.5.2     \u001b[32m✔\u001b[39m \u001b[34mstringr  \u001b[39m 1.5.1\n",
            "\u001b[32m✔\u001b[39m \u001b[34mlubridate\u001b[39m 1.9.4     \u001b[32m✔\u001b[39m \u001b[34mtibble   \u001b[39m 3.2.1\n",
            "\u001b[32m✔\u001b[39m \u001b[34mpurrr    \u001b[39m 1.0.4     \u001b[32m✔\u001b[39m \u001b[34mtidyr    \u001b[39m 1.3.1\n",
            "── \u001b[1mConflicts\u001b[22m ────────────────────────────────────────── tidyverse_conflicts() ──\n",
            "\u001b[31m✖\u001b[39m \u001b[34mdplyr\u001b[39m::\u001b[32mfilter()\u001b[39m masks \u001b[34mstats\u001b[39m::filter()\n",
            "\u001b[31m✖\u001b[39m \u001b[34mdplyr\u001b[39m::\u001b[32mlag()\u001b[39m    masks \u001b[34mstats\u001b[39m::lag()\n",
            "\u001b[36mℹ\u001b[39m Use the conflicted package (\u001b[3m\u001b[34m<http://conflicted.r-lib.org/>\u001b[39m\u001b[23m) to force all conflicts to become errors\n"
          ]
        }
      ],
      "source": [
        "library(dplyr)\n",
        "library(tidyverse)\n",
        "library(readxl)\n",
        "library(httr)"
      ]
    },
    {
      "cell_type": "markdown",
      "source": [
        "The Data\n",
        "Available in df_train.csv and df_test.csv:\n",
        "\n",
        "Column\tType\tDescription\n",
        "\n",
        "---\n",
        "\n",
        ":\n",
        "date\tchr\tDate of the measurement\n",
        "\n",
        "power_consumption\tdbl\tDaily power consumption (in kilowatts)\n",
        "\n",
        "year\tint\tYear of the measurement\n",
        "\n",
        "semester\tint\tSemester of the measurement (1 for Jan-Jun, 2 for Jul-Dec)\n",
        "\n",
        "quarter\tint\tQuarter of the measurement (1 for Q1, 2 for Q2, 3 for Q3, 4 for Q4)\n",
        "\n",
        "day_in_week\tchr\tDay of the week of the measurement (e.g., Monday, Tuesday)\n",
        "\n",
        "week_in_year\tint\tWeek number in the year of the measurement\n",
        "\n",
        "day_in_year\tint\tDay number in the year of the measurement\n",
        "\n",
        "month\tint\tMonth of the year of the measurement\n",
        "\n",
        "---\n",
        "\n",
        "\n",
        "This dataset was donated to the UCI Machine Learning Repository. For detailed information about the dataset and the preprocessing steps, please refer to the License and Data Preprocessing Details (Invalid URL) notebook"
      ],
      "metadata": {
        "id": "IPKrbtl8vNYe"
      }
    },
    {
      "cell_type": "markdown",
      "source": [
        "Predict daily **power_consumption** by experimenting with various supervised regression models trained on the training dataset.\n",
        "\n",
        "1. Evaluate their performance on the test dataset by measuring their Root Mean Squared Error (RMSE).\n",
        "\n",
        "2. Save the lowest RMSE achieved on the test set as a numeric variable selected_rmse, which should not be greater than 450 kW.\n",
        "\n",
        "3. Plot the power_consumption predictions and actual daily power_consumption for the test dataset and assess whether the predictions follow a similar trend as the original data.\n",
        "\n",
        "5. Save your answer \"Yes\" or \"No\" as a string variable trend_similarity."
      ],
      "metadata": {
        "id": "c0-gWr0Juoaj"
      }
    },
    {
      "cell_type": "code",
      "source": [
        "## train data set 불러오기\n",
        "url <- \"https://raw.githubusercontent.com/tarutear/2025-1/c6e34232d454b3e852d4a022186434a99520316f/df_train.xlsx\"\n",
        "destfile <- \"df_train.xlsx\"\n",
        "\n",
        "# 파일 다운로드 (바이너리 모드로!)\n",
        "GET(url, write_disk(destfile, overwrite = TRUE))\n",
        "\n",
        "# 엑셀 파일 읽기\n",
        "df_train <- read_excel(destfile)\n",
        "\n",
        "# 데이터 확인\n",
        "head(df_train)\n"
      ],
      "metadata": {
        "colab": {
          "base_uri": "https://localhost:8080/",
          "height": 409
        },
        "id": "H6OKpBbQterA",
        "outputId": "a1265372-9ef1-42f1-9026-dd729fce629c"
      },
      "execution_count": 2,
      "outputs": [
        {
          "output_type": "display_data",
          "data": {
            "text/plain": [
              "Response [https://raw.githubusercontent.com/tarutear/2025-1/c6e34232d454b3e852d4a022186434a99520316f/df_train.xlsx]\n",
              "  Date: 2025-06-03 11:27\n",
              "  Status: 200\n",
              "  Content-Type: application/octet-stream\n",
              "  Size: 72.4 kB\n",
              "<ON DISK>  df_train.xlsxNULL"
            ]
          },
          "metadata": {}
        },
        {
          "output_type": "display_data",
          "data": {
            "text/html": [
              "<table class=\"dataframe\">\n",
              "<caption>A tibble: 6 × 9</caption>\n",
              "<thead>\n",
              "\t<tr><th scope=col>date</th><th scope=col>power_consumption</th><th scope=col>year</th><th scope=col>semester</th><th scope=col>quarter</th><th scope=col>day_in_week</th><th scope=col>week_in_year</th><th scope=col>day_in_year</th><th scope=col>month</th></tr>\n",
              "\t<tr><th scope=col>&lt;chr&gt;</th><th scope=col>&lt;dbl&gt;</th><th scope=col>&lt;dbl&gt;</th><th scope=col>&lt;dbl&gt;</th><th scope=col>&lt;dbl&gt;</th><th scope=col>&lt;chr&gt;</th><th scope=col>&lt;dbl&gt;</th><th scope=col>&lt;dbl&gt;</th><th scope=col>&lt;dbl&gt;</th></tr>\n",
              "</thead>\n",
              "<tbody>\n",
              "\t<tr><td>12/16/2006</td><td>1209.176</td><td>2006</td><td>2</td><td>4</td><td>Sat</td><td>50</td><td>350</td><td>12</td></tr>\n",
              "\t<tr><td>12/17/2006</td><td>3390.460</td><td>2006</td><td>2</td><td>4</td><td>Sun</td><td>51</td><td>351</td><td>12</td></tr>\n",
              "\t<tr><td>12/18/2006</td><td>2203.826</td><td>2006</td><td>2</td><td>4</td><td>Mon</td><td>51</td><td>352</td><td>12</td></tr>\n",
              "\t<tr><td>12/19/2006</td><td>1666.194</td><td>2006</td><td>2</td><td>4</td><td>Tue</td><td>51</td><td>353</td><td>12</td></tr>\n",
              "\t<tr><td>12/20/2006</td><td>2225.748</td><td>2006</td><td>2</td><td>4</td><td>Wed</td><td>51</td><td>354</td><td>12</td></tr>\n",
              "\t<tr><td>12/21/2006</td><td>1716.624</td><td>2006</td><td>2</td><td>4</td><td>Thu</td><td>51</td><td>355</td><td>12</td></tr>\n",
              "</tbody>\n",
              "</table>\n"
            ],
            "text/markdown": "\nA tibble: 6 × 9\n\n| date &lt;chr&gt; | power_consumption &lt;dbl&gt; | year &lt;dbl&gt; | semester &lt;dbl&gt; | quarter &lt;dbl&gt; | day_in_week &lt;chr&gt; | week_in_year &lt;dbl&gt; | day_in_year &lt;dbl&gt; | month &lt;dbl&gt; |\n|---|---|---|---|---|---|---|---|---|\n| 12/16/2006 | 1209.176 | 2006 | 2 | 4 | Sat | 50 | 350 | 12 |\n| 12/17/2006 | 3390.460 | 2006 | 2 | 4 | Sun | 51 | 351 | 12 |\n| 12/18/2006 | 2203.826 | 2006 | 2 | 4 | Mon | 51 | 352 | 12 |\n| 12/19/2006 | 1666.194 | 2006 | 2 | 4 | Tue | 51 | 353 | 12 |\n| 12/20/2006 | 2225.748 | 2006 | 2 | 4 | Wed | 51 | 354 | 12 |\n| 12/21/2006 | 1716.624 | 2006 | 2 | 4 | Thu | 51 | 355 | 12 |\n\n",
            "text/latex": "A tibble: 6 × 9\n\\begin{tabular}{lllllllll}\n date & power\\_consumption & year & semester & quarter & day\\_in\\_week & week\\_in\\_year & day\\_in\\_year & month\\\\\n <chr> & <dbl> & <dbl> & <dbl> & <dbl> & <chr> & <dbl> & <dbl> & <dbl>\\\\\n\\hline\n\t 12/16/2006 & 1209.176 & 2006 & 2 & 4 & Sat & 50 & 350 & 12\\\\\n\t 12/17/2006 & 3390.460 & 2006 & 2 & 4 & Sun & 51 & 351 & 12\\\\\n\t 12/18/2006 & 2203.826 & 2006 & 2 & 4 & Mon & 51 & 352 & 12\\\\\n\t 12/19/2006 & 1666.194 & 2006 & 2 & 4 & Tue & 51 & 353 & 12\\\\\n\t 12/20/2006 & 2225.748 & 2006 & 2 & 4 & Wed & 51 & 354 & 12\\\\\n\t 12/21/2006 & 1716.624 & 2006 & 2 & 4 & Thu & 51 & 355 & 12\\\\\n\\end{tabular}\n",
            "text/plain": [
              "  date       power_consumption year semester quarter day_in_week week_in_year\n",
              "1 12/16/2006 1209.176          2006 2        4       Sat         50          \n",
              "2 12/17/2006 3390.460          2006 2        4       Sun         51          \n",
              "3 12/18/2006 2203.826          2006 2        4       Mon         51          \n",
              "4 12/19/2006 1666.194          2006 2        4       Tue         51          \n",
              "5 12/20/2006 2225.748          2006 2        4       Wed         51          \n",
              "6 12/21/2006 1716.624          2006 2        4       Thu         51          \n",
              "  day_in_year month\n",
              "1 350         12   \n",
              "2 351         12   \n",
              "3 352         12   \n",
              "4 353         12   \n",
              "5 354         12   \n",
              "6 355         12   "
            ]
          },
          "metadata": {}
        }
      ]
    },
    {
      "cell_type": "code",
      "source": [
        "## test data set 불러오기\n",
        "url <- \"https://raw.githubusercontent.com/tarutear/2025-1/c6e34232d454b3e852d4a022186434a99520316f/df_train.xlsx\"\n",
        "destfile <- \"df_test.xlsx\"\n",
        "\n",
        "# 파일 다운로드 (바이너리 모드로!)\n",
        "GET(url, write_disk(destfile, overwrite = TRUE))\n",
        "\n",
        "# 엑셀 파일 읽기\n",
        "df_test <- read_excel(destfile)\n",
        "\n",
        "# 데이터 확인\n",
        "head(df_test)\n"
      ],
      "metadata": {
        "colab": {
          "base_uri": "https://localhost:8080/",
          "height": 409
        },
        "id": "tOn0h_j_uHMU",
        "outputId": "38c43157-0b9b-48b2-e7db-b4517b2800a4"
      },
      "execution_count": 3,
      "outputs": [
        {
          "output_type": "display_data",
          "data": {
            "text/plain": [
              "Response [https://raw.githubusercontent.com/tarutear/2025-1/c6e34232d454b3e852d4a022186434a99520316f/df_train.xlsx]\n",
              "  Date: 2025-06-03 11:27\n",
              "  Status: 200\n",
              "  Content-Type: application/octet-stream\n",
              "  Size: 72.4 kB\n",
              "<ON DISK>  df_test.xlsxNULL"
            ]
          },
          "metadata": {}
        },
        {
          "output_type": "display_data",
          "data": {
            "text/html": [
              "<table class=\"dataframe\">\n",
              "<caption>A tibble: 6 × 9</caption>\n",
              "<thead>\n",
              "\t<tr><th scope=col>date</th><th scope=col>power_consumption</th><th scope=col>year</th><th scope=col>semester</th><th scope=col>quarter</th><th scope=col>day_in_week</th><th scope=col>week_in_year</th><th scope=col>day_in_year</th><th scope=col>month</th></tr>\n",
              "\t<tr><th scope=col>&lt;chr&gt;</th><th scope=col>&lt;dbl&gt;</th><th scope=col>&lt;dbl&gt;</th><th scope=col>&lt;dbl&gt;</th><th scope=col>&lt;dbl&gt;</th><th scope=col>&lt;chr&gt;</th><th scope=col>&lt;dbl&gt;</th><th scope=col>&lt;dbl&gt;</th><th scope=col>&lt;dbl&gt;</th></tr>\n",
              "</thead>\n",
              "<tbody>\n",
              "\t<tr><td>12/16/2006</td><td>1209.176</td><td>2006</td><td>2</td><td>4</td><td>Sat</td><td>50</td><td>350</td><td>12</td></tr>\n",
              "\t<tr><td>12/17/2006</td><td>3390.460</td><td>2006</td><td>2</td><td>4</td><td>Sun</td><td>51</td><td>351</td><td>12</td></tr>\n",
              "\t<tr><td>12/18/2006</td><td>2203.826</td><td>2006</td><td>2</td><td>4</td><td>Mon</td><td>51</td><td>352</td><td>12</td></tr>\n",
              "\t<tr><td>12/19/2006</td><td>1666.194</td><td>2006</td><td>2</td><td>4</td><td>Tue</td><td>51</td><td>353</td><td>12</td></tr>\n",
              "\t<tr><td>12/20/2006</td><td>2225.748</td><td>2006</td><td>2</td><td>4</td><td>Wed</td><td>51</td><td>354</td><td>12</td></tr>\n",
              "\t<tr><td>12/21/2006</td><td>1716.624</td><td>2006</td><td>2</td><td>4</td><td>Thu</td><td>51</td><td>355</td><td>12</td></tr>\n",
              "</tbody>\n",
              "</table>\n"
            ],
            "text/markdown": "\nA tibble: 6 × 9\n\n| date &lt;chr&gt; | power_consumption &lt;dbl&gt; | year &lt;dbl&gt; | semester &lt;dbl&gt; | quarter &lt;dbl&gt; | day_in_week &lt;chr&gt; | week_in_year &lt;dbl&gt; | day_in_year &lt;dbl&gt; | month &lt;dbl&gt; |\n|---|---|---|---|---|---|---|---|---|\n| 12/16/2006 | 1209.176 | 2006 | 2 | 4 | Sat | 50 | 350 | 12 |\n| 12/17/2006 | 3390.460 | 2006 | 2 | 4 | Sun | 51 | 351 | 12 |\n| 12/18/2006 | 2203.826 | 2006 | 2 | 4 | Mon | 51 | 352 | 12 |\n| 12/19/2006 | 1666.194 | 2006 | 2 | 4 | Tue | 51 | 353 | 12 |\n| 12/20/2006 | 2225.748 | 2006 | 2 | 4 | Wed | 51 | 354 | 12 |\n| 12/21/2006 | 1716.624 | 2006 | 2 | 4 | Thu | 51 | 355 | 12 |\n\n",
            "text/latex": "A tibble: 6 × 9\n\\begin{tabular}{lllllllll}\n date & power\\_consumption & year & semester & quarter & day\\_in\\_week & week\\_in\\_year & day\\_in\\_year & month\\\\\n <chr> & <dbl> & <dbl> & <dbl> & <dbl> & <chr> & <dbl> & <dbl> & <dbl>\\\\\n\\hline\n\t 12/16/2006 & 1209.176 & 2006 & 2 & 4 & Sat & 50 & 350 & 12\\\\\n\t 12/17/2006 & 3390.460 & 2006 & 2 & 4 & Sun & 51 & 351 & 12\\\\\n\t 12/18/2006 & 2203.826 & 2006 & 2 & 4 & Mon & 51 & 352 & 12\\\\\n\t 12/19/2006 & 1666.194 & 2006 & 2 & 4 & Tue & 51 & 353 & 12\\\\\n\t 12/20/2006 & 2225.748 & 2006 & 2 & 4 & Wed & 51 & 354 & 12\\\\\n\t 12/21/2006 & 1716.624 & 2006 & 2 & 4 & Thu & 51 & 355 & 12\\\\\n\\end{tabular}\n",
            "text/plain": [
              "  date       power_consumption year semester quarter day_in_week week_in_year\n",
              "1 12/16/2006 1209.176          2006 2        4       Sat         50          \n",
              "2 12/17/2006 3390.460          2006 2        4       Sun         51          \n",
              "3 12/18/2006 2203.826          2006 2        4       Mon         51          \n",
              "4 12/19/2006 1666.194          2006 2        4       Tue         51          \n",
              "5 12/20/2006 2225.748          2006 2        4       Wed         51          \n",
              "6 12/21/2006 1716.624          2006 2        4       Thu         51          \n",
              "  day_in_year month\n",
              "1 350         12   \n",
              "2 351         12   \n",
              "3 352         12   \n",
              "4 353         12   \n",
              "5 354         12   \n",
              "6 355         12   "
            ]
          },
          "metadata": {}
        }
      ]
    },
    {
      "cell_type": "code",
      "source": [
        "head(df_train)"
      ],
      "metadata": {
        "colab": {
          "base_uri": "https://localhost:8080/",
          "height": 283
        },
        "id": "siKZY0iXuWRA",
        "outputId": "7efeecbb-9488-40ab-f9cd-f23d47c7b99d"
      },
      "execution_count": 4,
      "outputs": [
        {
          "output_type": "display_data",
          "data": {
            "text/html": [
              "<table class=\"dataframe\">\n",
              "<caption>A tibble: 6 × 9</caption>\n",
              "<thead>\n",
              "\t<tr><th scope=col>date</th><th scope=col>power_consumption</th><th scope=col>year</th><th scope=col>semester</th><th scope=col>quarter</th><th scope=col>day_in_week</th><th scope=col>week_in_year</th><th scope=col>day_in_year</th><th scope=col>month</th></tr>\n",
              "\t<tr><th scope=col>&lt;chr&gt;</th><th scope=col>&lt;dbl&gt;</th><th scope=col>&lt;dbl&gt;</th><th scope=col>&lt;dbl&gt;</th><th scope=col>&lt;dbl&gt;</th><th scope=col>&lt;chr&gt;</th><th scope=col>&lt;dbl&gt;</th><th scope=col>&lt;dbl&gt;</th><th scope=col>&lt;dbl&gt;</th></tr>\n",
              "</thead>\n",
              "<tbody>\n",
              "\t<tr><td>12/16/2006</td><td>1209.176</td><td>2006</td><td>2</td><td>4</td><td>Sat</td><td>50</td><td>350</td><td>12</td></tr>\n",
              "\t<tr><td>12/17/2006</td><td>3390.460</td><td>2006</td><td>2</td><td>4</td><td>Sun</td><td>51</td><td>351</td><td>12</td></tr>\n",
              "\t<tr><td>12/18/2006</td><td>2203.826</td><td>2006</td><td>2</td><td>4</td><td>Mon</td><td>51</td><td>352</td><td>12</td></tr>\n",
              "\t<tr><td>12/19/2006</td><td>1666.194</td><td>2006</td><td>2</td><td>4</td><td>Tue</td><td>51</td><td>353</td><td>12</td></tr>\n",
              "\t<tr><td>12/20/2006</td><td>2225.748</td><td>2006</td><td>2</td><td>4</td><td>Wed</td><td>51</td><td>354</td><td>12</td></tr>\n",
              "\t<tr><td>12/21/2006</td><td>1716.624</td><td>2006</td><td>2</td><td>4</td><td>Thu</td><td>51</td><td>355</td><td>12</td></tr>\n",
              "</tbody>\n",
              "</table>\n"
            ],
            "text/markdown": "\nA tibble: 6 × 9\n\n| date &lt;chr&gt; | power_consumption &lt;dbl&gt; | year &lt;dbl&gt; | semester &lt;dbl&gt; | quarter &lt;dbl&gt; | day_in_week &lt;chr&gt; | week_in_year &lt;dbl&gt; | day_in_year &lt;dbl&gt; | month &lt;dbl&gt; |\n|---|---|---|---|---|---|---|---|---|\n| 12/16/2006 | 1209.176 | 2006 | 2 | 4 | Sat | 50 | 350 | 12 |\n| 12/17/2006 | 3390.460 | 2006 | 2 | 4 | Sun | 51 | 351 | 12 |\n| 12/18/2006 | 2203.826 | 2006 | 2 | 4 | Mon | 51 | 352 | 12 |\n| 12/19/2006 | 1666.194 | 2006 | 2 | 4 | Tue | 51 | 353 | 12 |\n| 12/20/2006 | 2225.748 | 2006 | 2 | 4 | Wed | 51 | 354 | 12 |\n| 12/21/2006 | 1716.624 | 2006 | 2 | 4 | Thu | 51 | 355 | 12 |\n\n",
            "text/latex": "A tibble: 6 × 9\n\\begin{tabular}{lllllllll}\n date & power\\_consumption & year & semester & quarter & day\\_in\\_week & week\\_in\\_year & day\\_in\\_year & month\\\\\n <chr> & <dbl> & <dbl> & <dbl> & <dbl> & <chr> & <dbl> & <dbl> & <dbl>\\\\\n\\hline\n\t 12/16/2006 & 1209.176 & 2006 & 2 & 4 & Sat & 50 & 350 & 12\\\\\n\t 12/17/2006 & 3390.460 & 2006 & 2 & 4 & Sun & 51 & 351 & 12\\\\\n\t 12/18/2006 & 2203.826 & 2006 & 2 & 4 & Mon & 51 & 352 & 12\\\\\n\t 12/19/2006 & 1666.194 & 2006 & 2 & 4 & Tue & 51 & 353 & 12\\\\\n\t 12/20/2006 & 2225.748 & 2006 & 2 & 4 & Wed & 51 & 354 & 12\\\\\n\t 12/21/2006 & 1716.624 & 2006 & 2 & 4 & Thu & 51 & 355 & 12\\\\\n\\end{tabular}\n",
            "text/plain": [
              "  date       power_consumption year semester quarter day_in_week week_in_year\n",
              "1 12/16/2006 1209.176          2006 2        4       Sat         50          \n",
              "2 12/17/2006 3390.460          2006 2        4       Sun         51          \n",
              "3 12/18/2006 2203.826          2006 2        4       Mon         51          \n",
              "4 12/19/2006 1666.194          2006 2        4       Tue         51          \n",
              "5 12/20/2006 2225.748          2006 2        4       Wed         51          \n",
              "6 12/21/2006 1716.624          2006 2        4       Thu         51          \n",
              "  day_in_year month\n",
              "1 350         12   \n",
              "2 351         12   \n",
              "3 352         12   \n",
              "4 353         12   \n",
              "5 354         12   \n",
              "6 355         12   "
            ]
          },
          "metadata": {}
        }
      ]
    },
    {
      "cell_type": "code",
      "source": [
        "glimpse(df_train)"
      ],
      "metadata": {
        "colab": {
          "base_uri": "https://localhost:8080/"
        },
        "id": "AXEwQPaKwu30",
        "outputId": "d2596a2b-daf8-4894-d187-a26a80f739c4"
      },
      "execution_count": 5,
      "outputs": [
        {
          "output_type": "stream",
          "name": "stdout",
          "text": [
            "Rows: 1,202\n",
            "Columns: 9\n",
            "$ date              \u001b[3m\u001b[90m<chr>\u001b[39m\u001b[23m \"12/16/2006\"\u001b[90m, \u001b[39m\"12/17/2006\"\u001b[90m, \u001b[39m\"12/18/2006\"\u001b[90m, \u001b[39m\"12/19/200…\n",
            "$ power_consumption \u001b[3m\u001b[90m<dbl>\u001b[39m\u001b[23m 1209.176\u001b[90m, \u001b[39m3390.460\u001b[90m, \u001b[39m2203.826\u001b[90m, \u001b[39m1666.194\u001b[90m, \u001b[39m2225.748\u001b[90m, \u001b[39m17…\n",
            "$ year              \u001b[3m\u001b[90m<dbl>\u001b[39m\u001b[23m 2006\u001b[90m, \u001b[39m2006\u001b[90m, \u001b[39m2006\u001b[90m, \u001b[39m2006\u001b[90m, \u001b[39m2006\u001b[90m, \u001b[39m2006\u001b[90m, \u001b[39m2006\u001b[90m, \u001b[39m2006\u001b[90m, \u001b[39m2006…\n",
            "$ semester          \u001b[3m\u001b[90m<dbl>\u001b[39m\u001b[23m 2\u001b[90m, \u001b[39m2\u001b[90m, \u001b[39m2\u001b[90m, \u001b[39m2\u001b[90m, \u001b[39m2\u001b[90m, \u001b[39m2\u001b[90m, \u001b[39m2\u001b[90m, \u001b[39m2\u001b[90m, \u001b[39m2\u001b[90m, \u001b[39m2\u001b[90m, \u001b[39m2\u001b[90m, \u001b[39m2\u001b[90m, \u001b[39m2\u001b[90m, \u001b[39m2\u001b[90m, \u001b[39m2\u001b[90m, \u001b[39m2\u001b[90m, \u001b[39m1\u001b[90m, \u001b[39m1…\n",
            "$ quarter           \u001b[3m\u001b[90m<dbl>\u001b[39m\u001b[23m 4\u001b[90m, \u001b[39m4\u001b[90m, \u001b[39m4\u001b[90m, \u001b[39m4\u001b[90m, \u001b[39m4\u001b[90m, \u001b[39m4\u001b[90m, \u001b[39m4\u001b[90m, \u001b[39m4\u001b[90m, \u001b[39m4\u001b[90m, \u001b[39m4\u001b[90m, \u001b[39m4\u001b[90m, \u001b[39m4\u001b[90m, \u001b[39m4\u001b[90m, \u001b[39m4\u001b[90m, \u001b[39m4\u001b[90m, \u001b[39m4\u001b[90m, \u001b[39m1\u001b[90m, \u001b[39m1…\n",
            "$ day_in_week       \u001b[3m\u001b[90m<chr>\u001b[39m\u001b[23m \"Sat\"\u001b[90m, \u001b[39m\"Sun\"\u001b[90m, \u001b[39m\"Mon\"\u001b[90m, \u001b[39m\"Tue\"\u001b[90m, \u001b[39m\"Wed\"\u001b[90m, \u001b[39m\"Thu\"\u001b[90m, \u001b[39m\"Fri\"\u001b[90m, \u001b[39m\"Sa…\n",
            "$ week_in_year      \u001b[3m\u001b[90m<dbl>\u001b[39m\u001b[23m 50\u001b[90m, \u001b[39m51\u001b[90m, \u001b[39m51\u001b[90m, \u001b[39m51\u001b[90m, \u001b[39m51\u001b[90m, \u001b[39m51\u001b[90m, \u001b[39m51\u001b[90m, \u001b[39m51\u001b[90m, \u001b[39m52\u001b[90m, \u001b[39m52\u001b[90m, \u001b[39m52\u001b[90m, \u001b[39m52\u001b[90m, \u001b[39m52\u001b[90m, \u001b[39m…\n",
            "$ day_in_year       \u001b[3m\u001b[90m<dbl>\u001b[39m\u001b[23m 350\u001b[90m, \u001b[39m351\u001b[90m, \u001b[39m352\u001b[90m, \u001b[39m353\u001b[90m, \u001b[39m354\u001b[90m, \u001b[39m355\u001b[90m, \u001b[39m356\u001b[90m, \u001b[39m357\u001b[90m, \u001b[39m358\u001b[90m, \u001b[39m359\u001b[90m, \u001b[39m36…\n",
            "$ month             \u001b[3m\u001b[90m<dbl>\u001b[39m\u001b[23m 12\u001b[90m, \u001b[39m12\u001b[90m, \u001b[39m12\u001b[90m, \u001b[39m12\u001b[90m, \u001b[39m12\u001b[90m, \u001b[39m12\u001b[90m, \u001b[39m12\u001b[90m, \u001b[39m12\u001b[90m, \u001b[39m12\u001b[90m, \u001b[39m12\u001b[90m, \u001b[39m12\u001b[90m, \u001b[39m12\u001b[90m, \u001b[39m12\u001b[90m, \u001b[39m…\n"
          ]
        }
      ]
    },
    {
      "cell_type": "code",
      "source": [
        "install.packages(\"ranger\")"
      ],
      "metadata": {
        "colab": {
          "base_uri": "https://localhost:8080/"
        },
        "id": "UW3qPh2-xOw0",
        "outputId": "54a52a93-41dd-405f-dc82-34f316baf5af"
      },
      "execution_count": null,
      "outputs": [
        {
          "output_type": "stream",
          "name": "stderr",
          "text": [
            "Installing package into ‘/usr/local/lib/R/site-library’\n",
            "(as ‘lib’ is unspecified)\n",
            "\n",
            "also installing the dependency ‘RcppEigen’\n",
            "\n",
            "\n"
          ]
        }
      ]
    },
    {
      "cell_type": "code",
      "source": [
        "install.packages(\"xgboost\")"
      ],
      "metadata": {
        "colab": {
          "base_uri": "https://localhost:8080/"
        },
        "id": "a8JkXx_yx-_b",
        "outputId": "c924ac31-cd22-4cc7-95f3-5454fe20b6c1"
      },
      "execution_count": null,
      "outputs": [
        {
          "output_type": "stream",
          "name": "stderr",
          "text": [
            "Installing package into ‘/usr/local/lib/R/site-library’\n",
            "(as ‘lib’ is unspecified)\n",
            "\n",
            "Warning message in install.packages(\"xgboost\"):\n",
            "“installation of package ‘xgboost’ had non-zero exit status”\n"
          ]
        }
      ]
    },
    {
      "cell_type": "markdown",
      "source": [
        "#Solution"
      ],
      "metadata": {
        "id": "trnTgWBPzXL5"
      }
    },
    {
      "cell_type": "code",
      "source": [
        "#Solution\n",
        "\n",
        "# Load necessary libraries\n",
        "library(dplyr)\n",
        "library(lubridate)\n",
        "library(ranger)\n",
        "library(xgboost)\n",
        "library(ggplot2)\n",
        "# Display structure of the training data\n",
        "glimpse(df_train)\n",
        "\n",
        "# Convert 'date' column to Date type and 'day_in_week' column to factor in both datasets\n",
        "df_train <- df_train %>%\n",
        "  mutate(date = as.Date(date, format = \"%m/%d/%Y\"),\n",
        "         day_in_week = factor(day_in_week))\n",
        "df_test <- df_test %>%\n",
        "  mutate(date = as.Date(date, format = \"%m/%d/%Y\"),\n",
        "         day_in_week = factor(day_in_week))\n",
        "\n",
        "# Convert categorical variable 'day_in_week' to indicator variables using one-hot encoding in both datasets\n",
        "df_onehot_train <- model.matrix(~ day_in_week - 1, data = df_train) %>%\n",
        "  as.data.frame()\n",
        "df_onehot_test <- model.matrix(~ day_in_week - 1, data = df_test) %>%\n",
        "  as.data.frame()\n",
        "\n",
        "# Combine one-hot encoded columns with the original datasets and remove the 'day_in_week' column\n",
        "df_train <- mutate(df_train, df_onehot_train) %>% select(-c(day_in_week))\n",
        "df_test <- mutate(df_test, df_onehot_test) %>% select(-c(day_in_week))\n",
        "\n",
        "# Separate features and target variable for both training and testing datasets\n",
        "train_x <- df_train %>% select(-power_consumption, -date)\n",
        "train_y <- df_train[[\"power_consumption\"]]\n",
        "test_x <- df_test %>% select(-power_consumption, -date)\n",
        "test_y <- df_test[[\"power_consumption\"]]\n",
        "\n",
        "# Train models, predict on test dataset and calculate RMSE for each model.\n",
        "## Linear regression\n",
        "lm_model <- lm(train_y ~ ., data = train_x)\n",
        "lm_pred <- predict(lm_model, newdata = test_x)\n",
        "lm_rmse <- sqrt(mean((test_y - lm_pred)^2))\n",
        "\n",
        "## Random forest\n",
        "rf_model <- ranger(power_consumption ~., data = df_train %>% select(-date), num.trees = 1000)\n",
        "rf_pred <- predict(rf_model, data = df_test %>% select(-date))$predictions\n",
        "rf_rmse <- sqrt(mean((test_y - rf_pred)^2))\n",
        "\n",
        "## XGBoost\n",
        "xgb_model <- xgboost(\n",
        "  data = as.matrix(train_x),\n",
        "  label = train_y,\n",
        "  nrounds = 500,\n",
        "  objective = \"reg:squarederror\",\n",
        "  eta = 0.1,\n",
        "  max_depth = 1,\n",
        "  verbose = FALSE\n",
        ")\n",
        "xgb_pred <- predict(xgb_model, newdata = as.matrix(test_x))\n",
        "xgb_rmse <- sqrt(mean((test_y - xgb_pred)^2))\n",
        "\n",
        "# RMSE scores\n",
        "data.frame(\n",
        "  Model = c(\"Linear Regression\", \"Random Forest\", \"XGBoost\"),\n",
        "  RMSE = c(lm_rmse, rf_rmse, xgb_rmse)\n",
        ")\n",
        "\n",
        "# Get the lowest RMSE and assign it to selected_rmse\n",
        "selected_rmse <- min(lm_rmse, rf_rmse, xgb_rmse)\n",
        "cat(\"selected_rmse:\", selected_rmse, \"kW\\n\")\n",
        "\n",
        "# Add predictions to the test dataset for plotting\n",
        "df_test <- df_test %>%\n",
        "  mutate(Predicted = rf_pred)\n",
        "\n",
        "# Plot actual vs predicted power consumption over time to check for trend similarity\n",
        "ggplot(df_test) +\n",
        "  geom_line(aes(x = date, y = power_consumption), color = \"green\", linewidth = 1.1) +\n",
        "  geom_line(aes(x = date, y = Predicted), color = \"brown\", linewidth = 1) +\n",
        "  labs(title = \"Power Consumption: Original and Predicted\", x = \"Date\", y = \"Power Consumption\", caption = \"Green is original and brown is predicted data\") +\n",
        "  scale_x_date(date_breaks = \"1 month\", date_labels = \"%b\") +\n",
        "  theme_minimal() +\n",
        "  theme(panel.grid.major.x = element_line(color = \"grey80\"))\n",
        "\n",
        "trend_similarity <- \"Yes\"\n",
        "\n",
        "cat(\"trend_similarity:\", trend_similarity, \"\\n\")"
      ],
      "metadata": {
        "colab": {
          "base_uri": "https://localhost:8080/",
          "height": 109
        },
        "id": "MYYPjH4Rwjqb",
        "outputId": "c2ff23a3-7a41-4830-df77-8b5a9b97c43c"
      },
      "execution_count": null,
      "outputs": [
        {
          "output_type": "error",
          "ename": "ERROR",
          "evalue": "Error in library(xgboost): there is no package called ‘xgboost’\n",
          "traceback": [
            "Error in library(xgboost): there is no package called ‘xgboost’\nTraceback:\n",
            "1. stop(packageNotFoundError(package, lib.loc, sys.call()))"
          ]
        }
      ]
    },
    {
      "cell_type": "markdown",
      "source": [
        "#의사결정나무"
      ],
      "metadata": {
        "id": "d_Dr9u4-zh24"
      }
    },
    {
      "cell_type": "code",
      "source": [
        "library(rpart)\n",
        "install.packages(\"rpart.plot\")\n",
        "library(rpart.plot)"
      ],
      "metadata": {
        "colab": {
          "base_uri": "https://localhost:8080/"
        },
        "id": "8v-qIzVXzjKU",
        "outputId": "0a156d56-77f6-43d2-e22b-1649285aa093"
      },
      "execution_count": 7,
      "outputs": [
        {
          "output_type": "stream",
          "name": "stderr",
          "text": [
            "Installing package into ‘/usr/local/lib/R/site-library’\n",
            "(as ‘lib’ is unspecified)\n",
            "\n"
          ]
        }
      ]
    },
    {
      "cell_type": "code",
      "source": [
        "head(df_train)"
      ],
      "metadata": {
        "colab": {
          "base_uri": "https://localhost:8080/",
          "height": 283
        },
        "id": "nAeLdeZ5jcfs",
        "outputId": "e1d04436-4b29-46db-c8f0-fa17e9d1788e"
      },
      "execution_count": 8,
      "outputs": [
        {
          "output_type": "display_data",
          "data": {
            "text/html": [
              "<table class=\"dataframe\">\n",
              "<caption>A tibble: 6 × 9</caption>\n",
              "<thead>\n",
              "\t<tr><th scope=col>date</th><th scope=col>power_consumption</th><th scope=col>year</th><th scope=col>semester</th><th scope=col>quarter</th><th scope=col>day_in_week</th><th scope=col>week_in_year</th><th scope=col>day_in_year</th><th scope=col>month</th></tr>\n",
              "\t<tr><th scope=col>&lt;chr&gt;</th><th scope=col>&lt;dbl&gt;</th><th scope=col>&lt;dbl&gt;</th><th scope=col>&lt;dbl&gt;</th><th scope=col>&lt;dbl&gt;</th><th scope=col>&lt;chr&gt;</th><th scope=col>&lt;dbl&gt;</th><th scope=col>&lt;dbl&gt;</th><th scope=col>&lt;dbl&gt;</th></tr>\n",
              "</thead>\n",
              "<tbody>\n",
              "\t<tr><td>12/16/2006</td><td>1209.176</td><td>2006</td><td>2</td><td>4</td><td>Sat</td><td>50</td><td>350</td><td>12</td></tr>\n",
              "\t<tr><td>12/17/2006</td><td>3390.460</td><td>2006</td><td>2</td><td>4</td><td>Sun</td><td>51</td><td>351</td><td>12</td></tr>\n",
              "\t<tr><td>12/18/2006</td><td>2203.826</td><td>2006</td><td>2</td><td>4</td><td>Mon</td><td>51</td><td>352</td><td>12</td></tr>\n",
              "\t<tr><td>12/19/2006</td><td>1666.194</td><td>2006</td><td>2</td><td>4</td><td>Tue</td><td>51</td><td>353</td><td>12</td></tr>\n",
              "\t<tr><td>12/20/2006</td><td>2225.748</td><td>2006</td><td>2</td><td>4</td><td>Wed</td><td>51</td><td>354</td><td>12</td></tr>\n",
              "\t<tr><td>12/21/2006</td><td>1716.624</td><td>2006</td><td>2</td><td>4</td><td>Thu</td><td>51</td><td>355</td><td>12</td></tr>\n",
              "</tbody>\n",
              "</table>\n"
            ],
            "text/markdown": "\nA tibble: 6 × 9\n\n| date &lt;chr&gt; | power_consumption &lt;dbl&gt; | year &lt;dbl&gt; | semester &lt;dbl&gt; | quarter &lt;dbl&gt; | day_in_week &lt;chr&gt; | week_in_year &lt;dbl&gt; | day_in_year &lt;dbl&gt; | month &lt;dbl&gt; |\n|---|---|---|---|---|---|---|---|---|\n| 12/16/2006 | 1209.176 | 2006 | 2 | 4 | Sat | 50 | 350 | 12 |\n| 12/17/2006 | 3390.460 | 2006 | 2 | 4 | Sun | 51 | 351 | 12 |\n| 12/18/2006 | 2203.826 | 2006 | 2 | 4 | Mon | 51 | 352 | 12 |\n| 12/19/2006 | 1666.194 | 2006 | 2 | 4 | Tue | 51 | 353 | 12 |\n| 12/20/2006 | 2225.748 | 2006 | 2 | 4 | Wed | 51 | 354 | 12 |\n| 12/21/2006 | 1716.624 | 2006 | 2 | 4 | Thu | 51 | 355 | 12 |\n\n",
            "text/latex": "A tibble: 6 × 9\n\\begin{tabular}{lllllllll}\n date & power\\_consumption & year & semester & quarter & day\\_in\\_week & week\\_in\\_year & day\\_in\\_year & month\\\\\n <chr> & <dbl> & <dbl> & <dbl> & <dbl> & <chr> & <dbl> & <dbl> & <dbl>\\\\\n\\hline\n\t 12/16/2006 & 1209.176 & 2006 & 2 & 4 & Sat & 50 & 350 & 12\\\\\n\t 12/17/2006 & 3390.460 & 2006 & 2 & 4 & Sun & 51 & 351 & 12\\\\\n\t 12/18/2006 & 2203.826 & 2006 & 2 & 4 & Mon & 51 & 352 & 12\\\\\n\t 12/19/2006 & 1666.194 & 2006 & 2 & 4 & Tue & 51 & 353 & 12\\\\\n\t 12/20/2006 & 2225.748 & 2006 & 2 & 4 & Wed & 51 & 354 & 12\\\\\n\t 12/21/2006 & 1716.624 & 2006 & 2 & 4 & Thu & 51 & 355 & 12\\\\\n\\end{tabular}\n",
            "text/plain": [
              "  date       power_consumption year semester quarter day_in_week week_in_year\n",
              "1 12/16/2006 1209.176          2006 2        4       Sat         50          \n",
              "2 12/17/2006 3390.460          2006 2        4       Sun         51          \n",
              "3 12/18/2006 2203.826          2006 2        4       Mon         51          \n",
              "4 12/19/2006 1666.194          2006 2        4       Tue         51          \n",
              "5 12/20/2006 2225.748          2006 2        4       Wed         51          \n",
              "6 12/21/2006 1716.624          2006 2        4       Thu         51          \n",
              "  day_in_year month\n",
              "1 350         12   \n",
              "2 351         12   \n",
              "3 352         12   \n",
              "4 353         12   \n",
              "5 354         12   \n",
              "6 355         12   "
            ]
          },
          "metadata": {}
        }
      ]
    },
    {
      "cell_type": "code",
      "source": [
        "train_exdate <- df_train %>% select(-date)"
      ],
      "metadata": {
        "id": "4r7sFCmjkGhe"
      },
      "execution_count": 13,
      "outputs": []
    },
    {
      "cell_type": "code",
      "source": [
        "ep_rpart <- rpart(power_consumption ~ ., data = train_exdate)\n",
        "summary(ep_rpart)"
      ],
      "metadata": {
        "id": "hKmvooA0zwz3",
        "colab": {
          "base_uri": "https://localhost:8080/"
        },
        "outputId": "22de9a52-75a5-4c86-d1ff-32090b2909f5"
      },
      "execution_count": 14,
      "outputs": [
        {
          "output_type": "stream",
          "name": "stdout",
          "text": [
            "Call:\n",
            "rpart(formula = power_consumption ~ ., data = train_exdate)\n",
            "  n= 1202 \n",
            "\n",
            "          CP nsplit rel error    xerror       xstd\n",
            "1 0.14075854      0 1.0000000 1.0040958 0.05039010\n",
            "2 0.04710007      2 0.7184829 0.7323227 0.03823652\n",
            "3 0.04100518      3 0.6713829 0.6918601 0.03712622\n",
            "4 0.03116482      4 0.6303777 0.6681794 0.03638291\n",
            "5 0.02441952      5 0.5992129 0.6382022 0.03582795\n",
            "6 0.01940740      6 0.5747933 0.6083198 0.03380903\n",
            "7 0.01550635      7 0.5553859 0.6092460 0.03401348\n",
            "8 0.01160929      8 0.5398796 0.5949500 0.03340586\n",
            "9 0.01000000      9 0.5282703 0.5867451 0.03332506\n",
            "\n",
            "Variable importance\n",
            " day_in_year week_in_year        month      quarter         year  day_in_week \n",
            "          28           27           25           13            3            3 \n",
            "    semester \n",
            "           2 \n",
            "\n",
            "Node number 1: 1202 observations,    complexity param=0.1407585\n",
            "  mean=1592.959, MSE=399720.4 \n",
            "  left son=2 (986 obs) right son=3 (216 obs)\n",
            "  Primary splits:\n",
            "      day_in_year  < 54.5   to the right, improve=0.11811720, (0 missing)\n",
            "      week_in_year < 8.5    to the right, improve=0.10803560, (0 missing)\n",
            "      month        < 3.5    to the right, improve=0.10031360, (0 missing)\n",
            "      quarter      < 1.5    to the right, improve=0.10031360, (0 missing)\n",
            "      day_in_week  splits as  LLRRLLL,    improve=0.04281555, (0 missing)\n",
            "  Surrogate splits:\n",
            "      week_in_year < 8.5    to the right, agree=0.993, adj=0.963, (0 split)\n",
            "      month        < 2.5    to the right, agree=0.983, adj=0.903, (0 split)\n",
            "      quarter      < 1.5    to the right, agree=0.879, adj=0.329, (0 split)\n",
            "      year         < 2009.5 to the left,  agree=0.835, adj=0.083, (0 split)\n",
            "\n",
            "Node number 2: 986 observations,    complexity param=0.1407585\n",
            "  mean=1491.259, MSE=354792.7 \n",
            "  left son=4 (801 obs) right son=5 (185 obs)\n",
            "  Primary splits:\n",
            "      day_in_year  < 309.5  to the left,  improve=0.22441960, (0 missing)\n",
            "      week_in_year < 44.5   to the left,  improve=0.22227970, (0 missing)\n",
            "      month        < 10.5   to the left,  improve=0.20332460, (0 missing)\n",
            "      quarter      < 3.5    to the left,  improve=0.19585350, (0 missing)\n",
            "      year         < 2006.5 to the right, improve=0.05853485, (0 missing)\n",
            "  Surrogate splits:\n",
            "      week_in_year < 44.5   to the left,  agree=0.997, adj=0.984, (0 split)\n",
            "      month        < 10.5   to the left,  agree=0.986, adj=0.924, (0 split)\n",
            "      quarter      < 3.5    to the left,  agree=0.891, adj=0.422, (0 split)\n",
            "      year         < 2006.5 to the right, agree=0.829, adj=0.086, (0 split)\n",
            "\n",
            "Node number 3: 216 observations,    complexity param=0.02441952\n",
            "  mean=2057.203, MSE=342070.3 \n",
            "  left son=6 (155 obs) right son=7 (61 obs)\n",
            "  Primary splits:\n",
            "      day_in_week  splits as  LLRRLLL,    improve=0.1587920000, (0 missing)\n",
            "      year         < 2007.5 to the right, improve=0.0448718000, (0 missing)\n",
            "      week_in_year < 2.5    to the left,  improve=0.0154698000, (0 missing)\n",
            "      day_in_year  < 14.5   to the left,  improve=0.0154698000, (0 missing)\n",
            "      month        < 1.5    to the right, improve=0.0005150509, (0 missing)\n",
            "\n",
            "Node number 4: 801 observations,    complexity param=0.04710007\n",
            "  mean=1355.65, MSE=267075.1 \n",
            "  left son=8 (591 obs) right son=9 (210 obs)\n",
            "  Primary splits:\n",
            "      week_in_year < 16.5   to the right, improve=0.10578310, (0 missing)\n",
            "      day_in_year  < 112.5  to the right, improve=0.10578310, (0 missing)\n",
            "      month        < 5.5    to the right, improve=0.09882480, (0 missing)\n",
            "      quarter      < 1.5    to the right, improve=0.07783479, (0 missing)\n",
            "      semester     < 1.5    to the right, improve=0.06858115, (0 missing)\n",
            "  Surrogate splits:\n",
            "      day_in_year < 112.5  to the right, agree=1.000, adj=1.000, (0 split)\n",
            "      month       < 4.5    to the right, agree=0.969, adj=0.881, (0 split)\n",
            "      quarter     < 1.5    to the right, agree=0.919, adj=0.690, (0 split)\n",
            "      year        < 2009.5 to the left,  agree=0.783, adj=0.171, (0 split)\n",
            "      semester    < 1.5    to the right, agree=0.740, adj=0.010, (0 split)\n",
            "\n",
            "Node number 5: 185 observations,    complexity param=0.01550635\n",
            "  mean=2078.408, MSE=310220 \n",
            "  left son=10 (131 obs) right son=11 (54 obs)\n",
            "  Primary splits:\n",
            "      day_in_week  splits as  LLRRLLL,    improve=0.12981620, (0 missing)\n",
            "      year         < 2007.5 to the right, improve=0.09240962, (0 missing)\n",
            "      day_in_year  < 355.5  to the left,  improve=0.05781180, (0 missing)\n",
            "      week_in_year < 50.5   to the left,  improve=0.03510609, (0 missing)\n",
            "      month        < 11.5   to the left,  improve=0.01224638, (0 missing)\n",
            "\n",
            "Node number 6: 155 observations\n",
            "  mean=1910.995, MSE=245487.3 \n",
            "\n",
            "Node number 7: 61 observations,    complexity param=0.01160929\n",
            "  mean=2428.715, MSE=395146.9 \n",
            "  left son=14 (47 obs) right son=15 (14 obs)\n",
            "  Primary splits:\n",
            "      year         < 2007.5 to the right, improve=2.314077e-01, (0 missing)\n",
            "      day_in_year  < 6.5    to the left,  improve=1.202699e-01, (0 missing)\n",
            "      week_in_year < 1.5    to the left,  improve=1.062674e-01, (0 missing)\n",
            "      day_in_week  splits as  --RL---,    improve=7.687616e-04, (0 missing)\n",
            "      month        < 1.5    to the right, improve=2.546382e-05, (0 missing)\n",
            "\n",
            "Node number 8: 591 observations,    complexity param=0.04100518\n",
            "  mean=1255.456, MSE=209119 \n",
            "  left son=16 (426 obs) right son=17 (165 obs)\n",
            "  Primary splits:\n",
            "      day_in_year  < 254.5  to the left,  improve=0.1594111, (0 missing)\n",
            "      week_in_year < 36.5   to the left,  improve=0.1518859, (0 missing)\n",
            "      month        < 8.5    to the left,  improve=0.1506626, (0 missing)\n",
            "      quarter      < 3.5    to the left,  improve=0.1148896, (0 missing)\n",
            "      day_in_week  splits as  RLRRLRR,    improve=0.0256857, (0 missing)\n",
            "  Surrogate splits:\n",
            "      week_in_year < 36.5   to the left,  agree=0.990, adj=0.964, (0 split)\n",
            "      month        < 8.5    to the left,  agree=0.946, adj=0.806, (0 split)\n",
            "      quarter      < 3.5    to the left,  agree=0.902, adj=0.648, (0 split)\n",
            "\n",
            "Node number 9: 210 observations,    complexity param=0.0194074\n",
            "  mean=1637.624, MSE=322418.9 \n",
            "  left son=18 (36 obs) right son=19 (174 obs)\n",
            "  Primary splits:\n",
            "      week_in_year < 9.5    to the left,  improve=0.13771720, (0 missing)\n",
            "      day_in_year  < 63.5   to the left,  improve=0.13771720, (0 missing)\n",
            "      month        < 2.5    to the left,  improve=0.08982480, (0 missing)\n",
            "      day_in_week  splits as  LLRRLLL,    improve=0.05452959, (0 missing)\n",
            "      year         < 2007.5 to the left,  improve=0.00644065, (0 missing)\n",
            "  Surrogate splits:\n",
            "      day_in_year < 63.5   to the left,  agree=1.000, adj=1.000, (0 split)\n",
            "      month       < 2.5    to the left,  agree=0.929, adj=0.583, (0 split)\n",
            "\n",
            "Node number 10: 131 observations\n",
            "  mean=1949.565, MSE=221256.3 \n",
            "\n",
            "Node number 11: 54 observations\n",
            "  mean=2390.971, MSE=388071.9 \n",
            "\n",
            "Node number 14: 47 observations\n",
            "  mean=2263.678, MSE=245703.7 \n",
            "\n",
            "Node number 15: 14 observations\n",
            "  mean=2982.771, MSE=498431.8 \n",
            "\n",
            "Node number 16: 426 observations,    complexity param=0.03116482\n",
            "  mean=1141.826, MSE=184547.5 \n",
            "  left son=32 (222 obs) right son=33 (204 obs)\n",
            "  Primary splits:\n",
            "      day_in_year  < 180.5  to the right, improve=0.1904617, (0 missing)\n",
            "      week_in_year < 27.5   to the right, improve=0.1897332, (0 missing)\n",
            "      semester     < 1.5    to the right, improve=0.1856203, (0 missing)\n",
            "      month        < 6.5    to the right, improve=0.1856203, (0 missing)\n",
            "      quarter      < 2.5    to the right, improve=0.1856203, (0 missing)\n",
            "  Surrogate splits:\n",
            "      semester     < 1.5    to the right, agree=0.991, adj=0.980, (0 split)\n",
            "      quarter      < 2.5    to the right, agree=0.991, adj=0.980, (0 split)\n",
            "      month        < 6.5    to the right, agree=0.991, adj=0.980, (0 split)\n",
            "      week_in_year < 26.5   to the right, agree=0.986, adj=0.971, (0 split)\n",
            "\n",
            "Node number 17: 165 observations\n",
            "  mean=1548.828, MSE=153155.1 \n",
            "\n",
            "Node number 18: 36 observations\n",
            "  mean=1174.361, MSE=345429.2 \n",
            "\n",
            "Node number 19: 174 observations\n",
            "  mean=1733.472, MSE=264068.8 \n",
            "\n",
            "Node number 32: 222 observations\n",
            "  mean=962.1063, MSE=137666.9 \n",
            "\n",
            "Node number 33: 204 observations\n",
            "  mean=1337.404, MSE=162164.7 \n",
            "\n"
          ]
        }
      ]
    },
    {
      "cell_type": "code",
      "source": [
        "rpart.plot(ep_rpart)"
      ],
      "metadata": {
        "colab": {
          "base_uri": "https://localhost:8080/",
          "height": 437
        },
        "id": "jwVJq4uUkZcP",
        "outputId": "00d8d82d-0a51-47fb-ab07-240eb531f96c"
      },
      "execution_count": 15,
      "outputs": [
        {
          "output_type": "display_data",
          "data": {
            "text/plain": [
              "plot without title"
            ],
            "image/png": "[encoded data removed]"
          },
          "metadata": {
            "image/png": {
              "width": 420,
              "height": 420
            }
          }
        }
      ]
    },
    {
      "cell_type": "markdown",
      "source": [],
      "metadata": {
        "id": "9DNnrx54zam-"
      }
    }
  ]
}